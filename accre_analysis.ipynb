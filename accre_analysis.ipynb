{
 "cells": [
  {
   "cell_type": "code",
   "execution_count": 114,
   "metadata": {},
   "outputs": [],
   "source": [
    "# import packages\n",
    "\n",
    "# import clevercsv as csv\n",
    "import re\n",
    "import matplotlib.pyplot as plt\n",
    "import numpy as np\n",
    "import pandas as pd\n",
    "import plotly.io as pio\n",
    "import plotly.express as px\n",
    "import seaborn as sns\n",
    "import scipy.stats as stats\n",
    "import statsmodels.api as sm\n",
    "import csv\n",
    "%matplotlib inline"
   ]
  },
  {
   "cell_type": "code",
   "execution_count": 115,
   "metadata": {},
   "outputs": [],
   "source": [
    "plt.style.use('dark_background')\n",
    "pio.templates.default = \"plotly_dark\""
   ]
  },
  {
   "cell_type": "code",
   "execution_count": 116,
   "metadata": {},
   "outputs": [
    {
     "name": "stderr",
     "output_type": "stream",
     "text": [
      "C:\\Users\\matth\\anaconda3\\lib\\site-packages\\IPython\\core\\interactiveshell.py:3071: DtypeWarning: Columns (7,8,13,14,15,16,17) have mixed types.Specify dtype option on import or set low_memory=False.\n",
      "  has_raised = await self.run_ast_nodes(code_ast.body, cell_name,\n"
     ]
    }
   ],
   "source": [
    "col_names= ['JOBID', 'ACCOUNT', 'USER', 'REQMEM', 'USEDMEM', 'REQTIME', 'USEDTIME',\n",
    "       'NODES', 'CPUS', 'PARTITION', 'EXITCODE', 'STATE', 'NODE1','NODE2','NODE3','NODE4','NODE5','NODE6']\n",
    "accre_df = pd.read_csv('accre-jobs-2020.csv', names=col_names) \n"
   ]
  },
  {
   "cell_type": "code",
   "execution_count": 117,
   "metadata": {
    "scrolled": true
   },
   "outputs": [
    {
     "data": {
      "text/plain": [
       "(3816291, 18)"
      ]
     },
     "execution_count": 117,
     "metadata": {},
     "output_type": "execute_result"
    }
   ],
   "source": [
    "accre_df.shape"
   ]
  },
  {
   "cell_type": "code",
   "execution_count": 118,
   "metadata": {},
   "outputs": [],
   "source": [
    "rslt_df = accre_df[accre_df['CPUS'] == 'CPUS']"
   ]
  },
  {
   "cell_type": "code",
   "execution_count": 119,
   "metadata": {},
   "outputs": [
    {
     "data": {
      "text/html": [
       "<div>\n",
       "<style scoped>\n",
       "    .dataframe tbody tr th:only-of-type {\n",
       "        vertical-align: middle;\n",
       "    }\n",
       "\n",
       "    .dataframe tbody tr th {\n",
       "        vertical-align: top;\n",
       "    }\n",
       "\n",
       "    .dataframe thead th {\n",
       "        text-align: right;\n",
       "    }\n",
       "</style>\n",
       "<table border=\"1\" class=\"dataframe\">\n",
       "  <thead>\n",
       "    <tr style=\"text-align: right;\">\n",
       "      <th></th>\n",
       "      <th>JOBID</th>\n",
       "      <th>ACCOUNT</th>\n",
       "      <th>USER</th>\n",
       "      <th>REQMEM</th>\n",
       "      <th>USEDMEM</th>\n",
       "      <th>REQTIME</th>\n",
       "      <th>USEDTIME</th>\n",
       "      <th>NODES</th>\n",
       "      <th>CPUS</th>\n",
       "      <th>PARTITION</th>\n",
       "      <th>EXITCODE</th>\n",
       "      <th>STATE</th>\n",
       "      <th>NODE1</th>\n",
       "      <th>NODE2</th>\n",
       "      <th>NODE3</th>\n",
       "      <th>NODE4</th>\n",
       "      <th>NODE5</th>\n",
       "      <th>NODE6</th>\n",
       "    </tr>\n",
       "  </thead>\n",
       "  <tbody>\n",
       "    <tr>\n",
       "      <th>0</th>\n",
       "      <td>JOBID</td>\n",
       "      <td>ACCOUNT</td>\n",
       "      <td>USER</td>\n",
       "      <td>REQMEM</td>\n",
       "      <td>USEDMEM</td>\n",
       "      <td>REQTIME</td>\n",
       "      <td>USEDTIME</td>\n",
       "      <td>NODES</td>\n",
       "      <td>CPUS</td>\n",
       "      <td>PARTITION</td>\n",
       "      <td>EXITCODE</td>\n",
       "      <td>STATE</td>\n",
       "      <td>NODELIST</td>\n",
       "      <td>NaN</td>\n",
       "      <td>NaN</td>\n",
       "      <td>NaN</td>\n",
       "      <td>NaN</td>\n",
       "      <td>NaN</td>\n",
       "    </tr>\n",
       "  </tbody>\n",
       "</table>\n",
       "</div>"
      ],
      "text/plain": [
       "   JOBID  ACCOUNT  USER  REQMEM  USEDMEM  REQTIME  USEDTIME  NODES  CPUS  \\\n",
       "0  JOBID  ACCOUNT  USER  REQMEM  USEDMEM  REQTIME  USEDTIME  NODES  CPUS   \n",
       "\n",
       "   PARTITION  EXITCODE  STATE     NODE1 NODE2 NODE3 NODE4 NODE5 NODE6  \n",
       "0  PARTITION  EXITCODE  STATE  NODELIST   NaN   NaN   NaN   NaN   NaN  "
      ]
     },
     "execution_count": 119,
     "metadata": {},
     "output_type": "execute_result"
    }
   ],
   "source": [
    "rslt_df"
   ]
  },
  {
   "cell_type": "code",
   "execution_count": 120,
   "metadata": {},
   "outputs": [],
   "source": [
    "accre_df = accre_df[1:]"
   ]
  },
  {
   "cell_type": "code",
   "execution_count": 121,
   "metadata": {
    "scrolled": false
   },
   "outputs": [
    {
     "data": {
      "text/html": [
       "<div>\n",
       "<style scoped>\n",
       "    .dataframe tbody tr th:only-of-type {\n",
       "        vertical-align: middle;\n",
       "    }\n",
       "\n",
       "    .dataframe tbody tr th {\n",
       "        vertical-align: top;\n",
       "    }\n",
       "\n",
       "    .dataframe thead th {\n",
       "        text-align: right;\n",
       "    }\n",
       "</style>\n",
       "<table border=\"1\" class=\"dataframe\">\n",
       "  <thead>\n",
       "    <tr style=\"text-align: right;\">\n",
       "      <th></th>\n",
       "      <th>JOBID</th>\n",
       "      <th>ACCOUNT</th>\n",
       "      <th>USER</th>\n",
       "      <th>REQMEM</th>\n",
       "      <th>USEDMEM</th>\n",
       "      <th>REQTIME</th>\n",
       "      <th>USEDTIME</th>\n",
       "      <th>NODES</th>\n",
       "      <th>CPUS</th>\n",
       "      <th>PARTITION</th>\n",
       "      <th>EXITCODE</th>\n",
       "      <th>STATE</th>\n",
       "      <th>NODE1</th>\n",
       "      <th>NODE2</th>\n",
       "      <th>NODE3</th>\n",
       "      <th>NODE4</th>\n",
       "      <th>NODE5</th>\n",
       "      <th>NODE6</th>\n",
       "    </tr>\n",
       "  </thead>\n",
       "  <tbody>\n",
       "    <tr>\n",
       "      <th>1</th>\n",
       "      <td>15925210</td>\n",
       "      <td>treviso</td>\n",
       "      <td>arabella</td>\n",
       "      <td>122880Mn</td>\n",
       "      <td>65973.49M</td>\n",
       "      <td>13-18:00:00</td>\n",
       "      <td>13-18:00:28</td>\n",
       "      <td>1</td>\n",
       "      <td>24</td>\n",
       "      <td>production</td>\n",
       "      <td>0:0</td>\n",
       "      <td>COMPLETED</td>\n",
       "      <td>cn1531</td>\n",
       "      <td>NaN</td>\n",
       "      <td>NaN</td>\n",
       "      <td>NaN</td>\n",
       "      <td>NaN</td>\n",
       "      <td>NaN</td>\n",
       "    </tr>\n",
       "    <tr>\n",
       "      <th>2</th>\n",
       "      <td>15861126</td>\n",
       "      <td>treviso</td>\n",
       "      <td>arabella</td>\n",
       "      <td>122880Mn</td>\n",
       "      <td>67181.12M</td>\n",
       "      <td>13-18:00:00</td>\n",
       "      <td>12-14:50:56</td>\n",
       "      <td>1</td>\n",
       "      <td>24</td>\n",
       "      <td>production</td>\n",
       "      <td>0:0</td>\n",
       "      <td>COMPLETED</td>\n",
       "      <td>cn1441</td>\n",
       "      <td>NaN</td>\n",
       "      <td>NaN</td>\n",
       "      <td>NaN</td>\n",
       "      <td>NaN</td>\n",
       "      <td>NaN</td>\n",
       "    </tr>\n",
       "    <tr>\n",
       "      <th>3</th>\n",
       "      <td>15861125</td>\n",
       "      <td>treviso</td>\n",
       "      <td>arabella</td>\n",
       "      <td>122880Mn</td>\n",
       "      <td>69111.86M</td>\n",
       "      <td>13-18:00:00</td>\n",
       "      <td>13-18:00:20</td>\n",
       "      <td>1</td>\n",
       "      <td>24</td>\n",
       "      <td>production</td>\n",
       "      <td>0:0</td>\n",
       "      <td>COMPLETED</td>\n",
       "      <td>cn1464</td>\n",
       "      <td>NaN</td>\n",
       "      <td>NaN</td>\n",
       "      <td>NaN</td>\n",
       "      <td>NaN</td>\n",
       "      <td>NaN</td>\n",
       "    </tr>\n",
       "    <tr>\n",
       "      <th>4</th>\n",
       "      <td>16251645</td>\n",
       "      <td>treviso</td>\n",
       "      <td>arabella</td>\n",
       "      <td>122880Mn</td>\n",
       "      <td>65317.33M</td>\n",
       "      <td>13-18:00:00</td>\n",
       "      <td>12-03:50:32</td>\n",
       "      <td>1</td>\n",
       "      <td>24</td>\n",
       "      <td>production</td>\n",
       "      <td>0:0</td>\n",
       "      <td>COMPLETED</td>\n",
       "      <td>cn1473</td>\n",
       "      <td>NaN</td>\n",
       "      <td>NaN</td>\n",
       "      <td>NaN</td>\n",
       "      <td>NaN</td>\n",
       "      <td>NaN</td>\n",
       "    </tr>\n",
       "    <tr>\n",
       "      <th>5</th>\n",
       "      <td>16251646</td>\n",
       "      <td>treviso</td>\n",
       "      <td>arabella</td>\n",
       "      <td>122880Mn</td>\n",
       "      <td>65876.11M</td>\n",
       "      <td>13-18:00:00</td>\n",
       "      <td>13-18:00:03</td>\n",
       "      <td>1</td>\n",
       "      <td>24</td>\n",
       "      <td>production</td>\n",
       "      <td>0:0</td>\n",
       "      <td>COMPLETED</td>\n",
       "      <td>cn1440</td>\n",
       "      <td>NaN</td>\n",
       "      <td>NaN</td>\n",
       "      <td>NaN</td>\n",
       "      <td>NaN</td>\n",
       "      <td>NaN</td>\n",
       "    </tr>\n",
       "  </tbody>\n",
       "</table>\n",
       "</div>"
      ],
      "text/plain": [
       "      JOBID  ACCOUNT      USER    REQMEM    USEDMEM      REQTIME     USEDTIME  \\\n",
       "1  15925210  treviso  arabella  122880Mn  65973.49M  13-18:00:00  13-18:00:28   \n",
       "2  15861126  treviso  arabella  122880Mn  67181.12M  13-18:00:00  12-14:50:56   \n",
       "3  15861125  treviso  arabella  122880Mn  69111.86M  13-18:00:00  13-18:00:20   \n",
       "4  16251645  treviso  arabella  122880Mn  65317.33M  13-18:00:00  12-03:50:32   \n",
       "5  16251646  treviso  arabella  122880Mn  65876.11M  13-18:00:00  13-18:00:03   \n",
       "\n",
       "  NODES CPUS   PARTITION EXITCODE      STATE   NODE1 NODE2 NODE3 NODE4 NODE5  \\\n",
       "1     1   24  production      0:0  COMPLETED  cn1531   NaN   NaN   NaN   NaN   \n",
       "2     1   24  production      0:0  COMPLETED  cn1441   NaN   NaN   NaN   NaN   \n",
       "3     1   24  production      0:0  COMPLETED  cn1464   NaN   NaN   NaN   NaN   \n",
       "4     1   24  production      0:0  COMPLETED  cn1473   NaN   NaN   NaN   NaN   \n",
       "5     1   24  production      0:0  COMPLETED  cn1440   NaN   NaN   NaN   NaN   \n",
       "\n",
       "  NODE6  \n",
       "1   NaN  \n",
       "2   NaN  \n",
       "3   NaN  \n",
       "4   NaN  \n",
       "5   NaN  "
      ]
     },
     "execution_count": 121,
     "metadata": {},
     "output_type": "execute_result"
    }
   ],
   "source": [
    "accre_df.head()"
   ]
  },
  {
   "cell_type": "code",
   "execution_count": 122,
   "metadata": {},
   "outputs": [],
   "source": [
    "accre_df['CPUS']= accre_df['CPUS'].astype(str).astype(float)"
   ]
  },
  {
   "cell_type": "code",
   "execution_count": 123,
   "metadata": {},
   "outputs": [
    {
     "data": {
      "text/html": [
       "<div>\n",
       "<style scoped>\n",
       "    .dataframe tbody tr th:only-of-type {\n",
       "        vertical-align: middle;\n",
       "    }\n",
       "\n",
       "    .dataframe tbody tr th {\n",
       "        vertical-align: top;\n",
       "    }\n",
       "\n",
       "    .dataframe thead th {\n",
       "        text-align: right;\n",
       "    }\n",
       "</style>\n",
       "<table border=\"1\" class=\"dataframe\">\n",
       "  <thead>\n",
       "    <tr style=\"text-align: right;\">\n",
       "      <th></th>\n",
       "      <th>JOBID</th>\n",
       "      <th>ACCOUNT</th>\n",
       "      <th>USER</th>\n",
       "      <th>REQMEM</th>\n",
       "      <th>USEDMEM</th>\n",
       "      <th>REQTIME</th>\n",
       "      <th>USEDTIME</th>\n",
       "      <th>NODES</th>\n",
       "      <th>CPUS</th>\n",
       "      <th>PARTITION</th>\n",
       "      <th>EXITCODE</th>\n",
       "      <th>STATE</th>\n",
       "      <th>NODE1</th>\n",
       "      <th>NODE2</th>\n",
       "      <th>NODE3</th>\n",
       "      <th>NODE4</th>\n",
       "      <th>NODE5</th>\n",
       "      <th>NODE6</th>\n",
       "    </tr>\n",
       "  </thead>\n",
       "  <tbody>\n",
       "    <tr>\n",
       "      <th>1</th>\n",
       "      <td>15925210</td>\n",
       "      <td>treviso</td>\n",
       "      <td>arabella</td>\n",
       "      <td>122880Mn</td>\n",
       "      <td>65973.49M</td>\n",
       "      <td>13-18:00:00</td>\n",
       "      <td>13-18:00:28</td>\n",
       "      <td>1</td>\n",
       "      <td>24.0</td>\n",
       "      <td>production</td>\n",
       "      <td>0:0</td>\n",
       "      <td>COMPLETED</td>\n",
       "      <td>cn1531</td>\n",
       "      <td>NaN</td>\n",
       "      <td>NaN</td>\n",
       "      <td>NaN</td>\n",
       "      <td>NaN</td>\n",
       "      <td>NaN</td>\n",
       "    </tr>\n",
       "    <tr>\n",
       "      <th>2</th>\n",
       "      <td>15861126</td>\n",
       "      <td>treviso</td>\n",
       "      <td>arabella</td>\n",
       "      <td>122880Mn</td>\n",
       "      <td>67181.12M</td>\n",
       "      <td>13-18:00:00</td>\n",
       "      <td>12-14:50:56</td>\n",
       "      <td>1</td>\n",
       "      <td>24.0</td>\n",
       "      <td>production</td>\n",
       "      <td>0:0</td>\n",
       "      <td>COMPLETED</td>\n",
       "      <td>cn1441</td>\n",
       "      <td>NaN</td>\n",
       "      <td>NaN</td>\n",
       "      <td>NaN</td>\n",
       "      <td>NaN</td>\n",
       "      <td>NaN</td>\n",
       "    </tr>\n",
       "    <tr>\n",
       "      <th>3</th>\n",
       "      <td>15861125</td>\n",
       "      <td>treviso</td>\n",
       "      <td>arabella</td>\n",
       "      <td>122880Mn</td>\n",
       "      <td>69111.86M</td>\n",
       "      <td>13-18:00:00</td>\n",
       "      <td>13-18:00:20</td>\n",
       "      <td>1</td>\n",
       "      <td>24.0</td>\n",
       "      <td>production</td>\n",
       "      <td>0:0</td>\n",
       "      <td>COMPLETED</td>\n",
       "      <td>cn1464</td>\n",
       "      <td>NaN</td>\n",
       "      <td>NaN</td>\n",
       "      <td>NaN</td>\n",
       "      <td>NaN</td>\n",
       "      <td>NaN</td>\n",
       "    </tr>\n",
       "    <tr>\n",
       "      <th>4</th>\n",
       "      <td>16251645</td>\n",
       "      <td>treviso</td>\n",
       "      <td>arabella</td>\n",
       "      <td>122880Mn</td>\n",
       "      <td>65317.33M</td>\n",
       "      <td>13-18:00:00</td>\n",
       "      <td>12-03:50:32</td>\n",
       "      <td>1</td>\n",
       "      <td>24.0</td>\n",
       "      <td>production</td>\n",
       "      <td>0:0</td>\n",
       "      <td>COMPLETED</td>\n",
       "      <td>cn1473</td>\n",
       "      <td>NaN</td>\n",
       "      <td>NaN</td>\n",
       "      <td>NaN</td>\n",
       "      <td>NaN</td>\n",
       "      <td>NaN</td>\n",
       "    </tr>\n",
       "    <tr>\n",
       "      <th>5</th>\n",
       "      <td>16251646</td>\n",
       "      <td>treviso</td>\n",
       "      <td>arabella</td>\n",
       "      <td>122880Mn</td>\n",
       "      <td>65876.11M</td>\n",
       "      <td>13-18:00:00</td>\n",
       "      <td>13-18:00:03</td>\n",
       "      <td>1</td>\n",
       "      <td>24.0</td>\n",
       "      <td>production</td>\n",
       "      <td>0:0</td>\n",
       "      <td>COMPLETED</td>\n",
       "      <td>cn1440</td>\n",
       "      <td>NaN</td>\n",
       "      <td>NaN</td>\n",
       "      <td>NaN</td>\n",
       "      <td>NaN</td>\n",
       "      <td>NaN</td>\n",
       "    </tr>\n",
       "  </tbody>\n",
       "</table>\n",
       "</div>"
      ],
      "text/plain": [
       "      JOBID  ACCOUNT      USER    REQMEM    USEDMEM      REQTIME     USEDTIME  \\\n",
       "1  15925210  treviso  arabella  122880Mn  65973.49M  13-18:00:00  13-18:00:28   \n",
       "2  15861126  treviso  arabella  122880Mn  67181.12M  13-18:00:00  12-14:50:56   \n",
       "3  15861125  treviso  arabella  122880Mn  69111.86M  13-18:00:00  13-18:00:20   \n",
       "4  16251645  treviso  arabella  122880Mn  65317.33M  13-18:00:00  12-03:50:32   \n",
       "5  16251646  treviso  arabella  122880Mn  65876.11M  13-18:00:00  13-18:00:03   \n",
       "\n",
       "  NODES  CPUS   PARTITION EXITCODE      STATE   NODE1 NODE2 NODE3 NODE4 NODE5  \\\n",
       "1     1  24.0  production      0:0  COMPLETED  cn1531   NaN   NaN   NaN   NaN   \n",
       "2     1  24.0  production      0:0  COMPLETED  cn1441   NaN   NaN   NaN   NaN   \n",
       "3     1  24.0  production      0:0  COMPLETED  cn1464   NaN   NaN   NaN   NaN   \n",
       "4     1  24.0  production      0:0  COMPLETED  cn1473   NaN   NaN   NaN   NaN   \n",
       "5     1  24.0  production      0:0  COMPLETED  cn1440   NaN   NaN   NaN   NaN   \n",
       "\n",
       "  NODE6  \n",
       "1   NaN  \n",
       "2   NaN  \n",
       "3   NaN  \n",
       "4   NaN  \n",
       "5   NaN  "
      ]
     },
     "execution_count": 123,
     "metadata": {},
     "output_type": "execute_result"
    }
   ],
   "source": [
    "accre_df.head()"
   ]
  },
  {
   "cell_type": "code",
   "execution_count": 124,
   "metadata": {
    "scrolled": true
   },
   "outputs": [
    {
     "name": "stdout",
     "output_type": "stream",
     "text": [
      "<class 'pandas.core.frame.DataFrame'>\n",
      "RangeIndex: 3816290 entries, 1 to 3816290\n",
      "Data columns (total 18 columns):\n",
      " #   Column     Dtype  \n",
      "---  ------     -----  \n",
      " 0   JOBID      object \n",
      " 1   ACCOUNT    object \n",
      " 2   USER       object \n",
      " 3   REQMEM     object \n",
      " 4   USEDMEM    object \n",
      " 5   REQTIME    object \n",
      " 6   USEDTIME   object \n",
      " 7   NODES      object \n",
      " 8   CPUS       float64\n",
      " 9   PARTITION  object \n",
      " 10  EXITCODE   object \n",
      " 11  STATE      object \n",
      " 12  NODE1      object \n",
      " 13  NODE2      object \n",
      " 14  NODE3      object \n",
      " 15  NODE4      object \n",
      " 16  NODE5      object \n",
      " 17  NODE6      object \n",
      "dtypes: float64(1), object(17)\n",
      "memory usage: 524.1+ MB\n"
     ]
    }
   ],
   "source": [
    "accre_df.info()"
   ]
  },
  {
   "cell_type": "code",
   "execution_count": 125,
   "metadata": {},
   "outputs": [
    {
     "data": {
      "text/plain": [
       "<bound method Series.unique of 1          24.0\n",
       "2          24.0\n",
       "3          24.0\n",
       "4          24.0\n",
       "5          24.0\n",
       "           ... \n",
       "3816286     2.0\n",
       "3816287     2.0\n",
       "3816288     2.0\n",
       "3816289     8.0\n",
       "3816290     1.0\n",
       "Name: CPUS, Length: 3816290, dtype: float64>"
      ]
     },
     "execution_count": 125,
     "metadata": {},
     "output_type": "execute_result"
    }
   ],
   "source": [
    "accre_df['CPUS'].unique"
   ]
  },
  {
   "cell_type": "code",
   "execution_count": 130,
   "metadata": {},
   "outputs": [
    {
     "data": {
      "text/html": [
       "<div>\n",
       "<style scoped>\n",
       "    .dataframe tbody tr th:only-of-type {\n",
       "        vertical-align: middle;\n",
       "    }\n",
       "\n",
       "    .dataframe tbody tr th {\n",
       "        vertical-align: top;\n",
       "    }\n",
       "\n",
       "    .dataframe thead th {\n",
       "        text-align: right;\n",
       "    }\n",
       "</style>\n",
       "<table border=\"1\" class=\"dataframe\">\n",
       "  <thead>\n",
       "    <tr style=\"text-align: right;\">\n",
       "      <th></th>\n",
       "      <th>JOBID</th>\n",
       "      <th>ACCOUNT</th>\n",
       "      <th>USER</th>\n",
       "      <th>REQMEM</th>\n",
       "      <th>USEDMEM</th>\n",
       "      <th>REQTIME</th>\n",
       "      <th>USEDTIME</th>\n",
       "      <th>NODES</th>\n",
       "      <th>CPUS</th>\n",
       "      <th>PARTITION</th>\n",
       "      <th>EXITCODE</th>\n",
       "      <th>STATE</th>\n",
       "      <th>NODE1</th>\n",
       "      <th>NODE2</th>\n",
       "      <th>NODE3</th>\n",
       "      <th>NODE4</th>\n",
       "      <th>NODE5</th>\n",
       "      <th>NODE6</th>\n",
       "      <th>RMPN</th>\n",
       "    </tr>\n",
       "  </thead>\n",
       "  <tbody>\n",
       "    <tr>\n",
       "      <th>1</th>\n",
       "      <td>15925210</td>\n",
       "      <td>treviso</td>\n",
       "      <td>arabella</td>\n",
       "      <td>122880Mn</td>\n",
       "      <td>65973.49M</td>\n",
       "      <td>13-18:00:00</td>\n",
       "      <td>13-18:00:28</td>\n",
       "      <td>1</td>\n",
       "      <td>24.0</td>\n",
       "      <td>production</td>\n",
       "      <td>0:0</td>\n",
       "      <td>COMPLETED</td>\n",
       "      <td>cn1531</td>\n",
       "      <td>NaN</td>\n",
       "      <td>NaN</td>\n",
       "      <td>NaN</td>\n",
       "      <td>NaN</td>\n",
       "      <td>NaN</td>\n",
       "      <td>122880</td>\n",
       "    </tr>\n",
       "    <tr>\n",
       "      <th>2</th>\n",
       "      <td>15861126</td>\n",
       "      <td>treviso</td>\n",
       "      <td>arabella</td>\n",
       "      <td>122880Mn</td>\n",
       "      <td>67181.12M</td>\n",
       "      <td>13-18:00:00</td>\n",
       "      <td>12-14:50:56</td>\n",
       "      <td>1</td>\n",
       "      <td>24.0</td>\n",
       "      <td>production</td>\n",
       "      <td>0:0</td>\n",
       "      <td>COMPLETED</td>\n",
       "      <td>cn1441</td>\n",
       "      <td>NaN</td>\n",
       "      <td>NaN</td>\n",
       "      <td>NaN</td>\n",
       "      <td>NaN</td>\n",
       "      <td>NaN</td>\n",
       "      <td>122880</td>\n",
       "    </tr>\n",
       "    <tr>\n",
       "      <th>3</th>\n",
       "      <td>15861125</td>\n",
       "      <td>treviso</td>\n",
       "      <td>arabella</td>\n",
       "      <td>122880Mn</td>\n",
       "      <td>69111.86M</td>\n",
       "      <td>13-18:00:00</td>\n",
       "      <td>13-18:00:20</td>\n",
       "      <td>1</td>\n",
       "      <td>24.0</td>\n",
       "      <td>production</td>\n",
       "      <td>0:0</td>\n",
       "      <td>COMPLETED</td>\n",
       "      <td>cn1464</td>\n",
       "      <td>NaN</td>\n",
       "      <td>NaN</td>\n",
       "      <td>NaN</td>\n",
       "      <td>NaN</td>\n",
       "      <td>NaN</td>\n",
       "      <td>122880</td>\n",
       "    </tr>\n",
       "    <tr>\n",
       "      <th>4</th>\n",
       "      <td>16251645</td>\n",
       "      <td>treviso</td>\n",
       "      <td>arabella</td>\n",
       "      <td>122880Mn</td>\n",
       "      <td>65317.33M</td>\n",
       "      <td>13-18:00:00</td>\n",
       "      <td>12-03:50:32</td>\n",
       "      <td>1</td>\n",
       "      <td>24.0</td>\n",
       "      <td>production</td>\n",
       "      <td>0:0</td>\n",
       "      <td>COMPLETED</td>\n",
       "      <td>cn1473</td>\n",
       "      <td>NaN</td>\n",
       "      <td>NaN</td>\n",
       "      <td>NaN</td>\n",
       "      <td>NaN</td>\n",
       "      <td>NaN</td>\n",
       "      <td>122880</td>\n",
       "    </tr>\n",
       "    <tr>\n",
       "      <th>5</th>\n",
       "      <td>16251646</td>\n",
       "      <td>treviso</td>\n",
       "      <td>arabella</td>\n",
       "      <td>122880Mn</td>\n",
       "      <td>65876.11M</td>\n",
       "      <td>13-18:00:00</td>\n",
       "      <td>13-18:00:03</td>\n",
       "      <td>1</td>\n",
       "      <td>24.0</td>\n",
       "      <td>production</td>\n",
       "      <td>0:0</td>\n",
       "      <td>COMPLETED</td>\n",
       "      <td>cn1440</td>\n",
       "      <td>NaN</td>\n",
       "      <td>NaN</td>\n",
       "      <td>NaN</td>\n",
       "      <td>NaN</td>\n",
       "      <td>NaN</td>\n",
       "      <td>122880</td>\n",
       "    </tr>\n",
       "  </tbody>\n",
       "</table>\n",
       "</div>"
      ],
      "text/plain": [
       "      JOBID  ACCOUNT      USER    REQMEM    USEDMEM      REQTIME     USEDTIME  \\\n",
       "1  15925210  treviso  arabella  122880Mn  65973.49M  13-18:00:00  13-18:00:28   \n",
       "2  15861126  treviso  arabella  122880Mn  67181.12M  13-18:00:00  12-14:50:56   \n",
       "3  15861125  treviso  arabella  122880Mn  69111.86M  13-18:00:00  13-18:00:20   \n",
       "4  16251645  treviso  arabella  122880Mn  65317.33M  13-18:00:00  12-03:50:32   \n",
       "5  16251646  treviso  arabella  122880Mn  65876.11M  13-18:00:00  13-18:00:03   \n",
       "\n",
       "  NODES  CPUS   PARTITION EXITCODE      STATE   NODE1 NODE2 NODE3 NODE4 NODE5  \\\n",
       "1     1  24.0  production      0:0  COMPLETED  cn1531   NaN   NaN   NaN   NaN   \n",
       "2     1  24.0  production      0:0  COMPLETED  cn1441   NaN   NaN   NaN   NaN   \n",
       "3     1  24.0  production      0:0  COMPLETED  cn1464   NaN   NaN   NaN   NaN   \n",
       "4     1  24.0  production      0:0  COMPLETED  cn1473   NaN   NaN   NaN   NaN   \n",
       "5     1  24.0  production      0:0  COMPLETED  cn1440   NaN   NaN   NaN   NaN   \n",
       "\n",
       "  NODE6    RMPN  \n",
       "1   NaN  122880  \n",
       "2   NaN  122880  \n",
       "3   NaN  122880  \n",
       "4   NaN  122880  \n",
       "5   NaN  122880  "
      ]
     },
     "execution_count": 130,
     "metadata": {},
     "output_type": "execute_result"
    }
   ],
   "source": [
    "#new column is for requested memory per node\n",
    "accre_df['RMPN'] = accre_df['REQMEM'].str.extract('(.*)Mn$')\n",
    "accre_df.head()"
   ]
  },
  {
   "cell_type": "code",
   "execution_count": 126,
   "metadata": {
    "scrolled": true
   },
   "outputs": [
    {
     "ename": "ValueError",
     "evalue": "pattern contains no capture groups",
     "output_type": "error",
     "traceback": [
      "\u001b[1;31m---------------------------------------------------------------------------\u001b[0m",
      "\u001b[1;31mValueError\u001b[0m                                Traceback (most recent call last)",
      "\u001b[1;32m<ipython-input-126-e88acbdf93eb>\u001b[0m in \u001b[0;36m<module>\u001b[1;34m\u001b[0m\n\u001b[1;32m----> 1\u001b[1;33m \u001b[0maccre_df\u001b[0m\u001b[1;33m[\u001b[0m\u001b[1;34m'REQMEMNODE'\u001b[0m\u001b[1;33m]\u001b[0m \u001b[1;33m=\u001b[0m \u001b[0maccre_df\u001b[0m\u001b[1;33m[\u001b[0m\u001b[1;34m'REQMEM'\u001b[0m\u001b[1;33m]\u001b[0m\u001b[1;33m.\u001b[0m\u001b[0mstr\u001b[0m\u001b[1;33m.\u001b[0m\u001b[0mextract\u001b[0m\u001b[1;33m(\u001b[0m\u001b[1;34m'.*n$'\u001b[0m\u001b[1;33m)\u001b[0m\u001b[1;33m\u001b[0m\u001b[1;33m\u001b[0m\u001b[0m\n\u001b[0m\u001b[0;32m      2\u001b[0m \u001b[0maccre_df\u001b[0m\u001b[1;33m\u001b[0m\u001b[1;33m\u001b[0m\u001b[0m\n",
      "\u001b[1;32m~\\anaconda3\\lib\\site-packages\\pandas\\core\\strings.py\u001b[0m in \u001b[0;36mwrapper\u001b[1;34m(self, *args, **kwargs)\u001b[0m\n\u001b[0;32m   1952\u001b[0m                 )\n\u001b[0;32m   1953\u001b[0m                 \u001b[1;32mraise\u001b[0m \u001b[0mTypeError\u001b[0m\u001b[1;33m(\u001b[0m\u001b[0mmsg\u001b[0m\u001b[1;33m)\u001b[0m\u001b[1;33m\u001b[0m\u001b[1;33m\u001b[0m\u001b[0m\n\u001b[1;32m-> 1954\u001b[1;33m             \u001b[1;32mreturn\u001b[0m \u001b[0mfunc\u001b[0m\u001b[1;33m(\u001b[0m\u001b[0mself\u001b[0m\u001b[1;33m,\u001b[0m \u001b[1;33m*\u001b[0m\u001b[0margs\u001b[0m\u001b[1;33m,\u001b[0m \u001b[1;33m**\u001b[0m\u001b[0mkwargs\u001b[0m\u001b[1;33m)\u001b[0m\u001b[1;33m\u001b[0m\u001b[1;33m\u001b[0m\u001b[0m\n\u001b[0m\u001b[0;32m   1955\u001b[0m \u001b[1;33m\u001b[0m\u001b[0m\n\u001b[0;32m   1956\u001b[0m         \u001b[0mwrapper\u001b[0m\u001b[1;33m.\u001b[0m\u001b[0m__name__\u001b[0m \u001b[1;33m=\u001b[0m \u001b[0mfunc_name\u001b[0m\u001b[1;33m\u001b[0m\u001b[1;33m\u001b[0m\u001b[0m\n",
      "\u001b[1;32m~\\anaconda3\\lib\\site-packages\\pandas\\core\\strings.py\u001b[0m in \u001b[0;36mextract\u001b[1;34m(self, pat, flags, expand)\u001b[0m\n\u001b[0;32m   3039\u001b[0m     \u001b[1;33m@\u001b[0m\u001b[0mforbid_nonstring_types\u001b[0m\u001b[1;33m(\u001b[0m\u001b[1;33m[\u001b[0m\u001b[1;34m\"bytes\"\u001b[0m\u001b[1;33m]\u001b[0m\u001b[1;33m)\u001b[0m\u001b[1;33m\u001b[0m\u001b[1;33m\u001b[0m\u001b[0m\n\u001b[0;32m   3040\u001b[0m     \u001b[1;32mdef\u001b[0m \u001b[0mextract\u001b[0m\u001b[1;33m(\u001b[0m\u001b[0mself\u001b[0m\u001b[1;33m,\u001b[0m \u001b[0mpat\u001b[0m\u001b[1;33m,\u001b[0m \u001b[0mflags\u001b[0m\u001b[1;33m=\u001b[0m\u001b[1;36m0\u001b[0m\u001b[1;33m,\u001b[0m \u001b[0mexpand\u001b[0m\u001b[1;33m=\u001b[0m\u001b[1;32mTrue\u001b[0m\u001b[1;33m)\u001b[0m\u001b[1;33m:\u001b[0m\u001b[1;33m\u001b[0m\u001b[1;33m\u001b[0m\u001b[0m\n\u001b[1;32m-> 3041\u001b[1;33m         \u001b[1;32mreturn\u001b[0m \u001b[0mstr_extract\u001b[0m\u001b[1;33m(\u001b[0m\u001b[0mself\u001b[0m\u001b[1;33m,\u001b[0m \u001b[0mpat\u001b[0m\u001b[1;33m,\u001b[0m \u001b[0mflags\u001b[0m\u001b[1;33m=\u001b[0m\u001b[0mflags\u001b[0m\u001b[1;33m,\u001b[0m \u001b[0mexpand\u001b[0m\u001b[1;33m=\u001b[0m\u001b[0mexpand\u001b[0m\u001b[1;33m)\u001b[0m\u001b[1;33m\u001b[0m\u001b[1;33m\u001b[0m\u001b[0m\n\u001b[0m\u001b[0;32m   3042\u001b[0m \u001b[1;33m\u001b[0m\u001b[0m\n\u001b[0;32m   3043\u001b[0m     \u001b[1;33m@\u001b[0m\u001b[0mcopy\u001b[0m\u001b[1;33m(\u001b[0m\u001b[0mstr_extractall\u001b[0m\u001b[1;33m)\u001b[0m\u001b[1;33m\u001b[0m\u001b[1;33m\u001b[0m\u001b[0m\n",
      "\u001b[1;32m~\\anaconda3\\lib\\site-packages\\pandas\\core\\strings.py\u001b[0m in \u001b[0;36mstr_extract\u001b[1;34m(arr, pat, flags, expand)\u001b[0m\n\u001b[0;32m   1010\u001b[0m         \u001b[1;32mraise\u001b[0m \u001b[0mValueError\u001b[0m\u001b[1;33m(\u001b[0m\u001b[1;34m\"expand must be True or False\"\u001b[0m\u001b[1;33m)\u001b[0m\u001b[1;33m\u001b[0m\u001b[1;33m\u001b[0m\u001b[0m\n\u001b[0;32m   1011\u001b[0m     \u001b[1;32mif\u001b[0m \u001b[0mexpand\u001b[0m\u001b[1;33m:\u001b[0m\u001b[1;33m\u001b[0m\u001b[1;33m\u001b[0m\u001b[0m\n\u001b[1;32m-> 1012\u001b[1;33m         \u001b[1;32mreturn\u001b[0m \u001b[0m_str_extract_frame\u001b[0m\u001b[1;33m(\u001b[0m\u001b[0marr\u001b[0m\u001b[1;33m.\u001b[0m\u001b[0m_orig\u001b[0m\u001b[1;33m,\u001b[0m \u001b[0mpat\u001b[0m\u001b[1;33m,\u001b[0m \u001b[0mflags\u001b[0m\u001b[1;33m=\u001b[0m\u001b[0mflags\u001b[0m\u001b[1;33m)\u001b[0m\u001b[1;33m\u001b[0m\u001b[1;33m\u001b[0m\u001b[0m\n\u001b[0m\u001b[0;32m   1013\u001b[0m     \u001b[1;32melse\u001b[0m\u001b[1;33m:\u001b[0m\u001b[1;33m\u001b[0m\u001b[1;33m\u001b[0m\u001b[0m\n\u001b[0;32m   1014\u001b[0m         \u001b[0mresult\u001b[0m\u001b[1;33m,\u001b[0m \u001b[0mname\u001b[0m \u001b[1;33m=\u001b[0m \u001b[0m_str_extract_noexpand\u001b[0m\u001b[1;33m(\u001b[0m\u001b[0marr\u001b[0m\u001b[1;33m.\u001b[0m\u001b[0m_parent\u001b[0m\u001b[1;33m,\u001b[0m \u001b[0mpat\u001b[0m\u001b[1;33m,\u001b[0m \u001b[0mflags\u001b[0m\u001b[1;33m=\u001b[0m\u001b[0mflags\u001b[0m\u001b[1;33m)\u001b[0m\u001b[1;33m\u001b[0m\u001b[1;33m\u001b[0m\u001b[0m\n",
      "\u001b[1;32m~\\anaconda3\\lib\\site-packages\\pandas\\core\\strings.py\u001b[0m in \u001b[0;36m_str_extract_frame\u001b[1;34m(arr, pat, flags)\u001b[0m\n\u001b[0;32m    907\u001b[0m \u001b[1;33m\u001b[0m\u001b[0m\n\u001b[0;32m    908\u001b[0m     \u001b[0mregex\u001b[0m \u001b[1;33m=\u001b[0m \u001b[0mre\u001b[0m\u001b[1;33m.\u001b[0m\u001b[0mcompile\u001b[0m\u001b[1;33m(\u001b[0m\u001b[0mpat\u001b[0m\u001b[1;33m,\u001b[0m \u001b[0mflags\u001b[0m\u001b[1;33m=\u001b[0m\u001b[0mflags\u001b[0m\u001b[1;33m)\u001b[0m\u001b[1;33m\u001b[0m\u001b[1;33m\u001b[0m\u001b[0m\n\u001b[1;32m--> 909\u001b[1;33m     \u001b[0mgroups_or_na\u001b[0m \u001b[1;33m=\u001b[0m \u001b[0m_groups_or_na_fun\u001b[0m\u001b[1;33m(\u001b[0m\u001b[0mregex\u001b[0m\u001b[1;33m)\u001b[0m\u001b[1;33m\u001b[0m\u001b[1;33m\u001b[0m\u001b[0m\n\u001b[0m\u001b[0;32m    910\u001b[0m     \u001b[0mnames\u001b[0m \u001b[1;33m=\u001b[0m \u001b[0mdict\u001b[0m\u001b[1;33m(\u001b[0m\u001b[0mzip\u001b[0m\u001b[1;33m(\u001b[0m\u001b[0mregex\u001b[0m\u001b[1;33m.\u001b[0m\u001b[0mgroupindex\u001b[0m\u001b[1;33m.\u001b[0m\u001b[0mvalues\u001b[0m\u001b[1;33m(\u001b[0m\u001b[1;33m)\u001b[0m\u001b[1;33m,\u001b[0m \u001b[0mregex\u001b[0m\u001b[1;33m.\u001b[0m\u001b[0mgroupindex\u001b[0m\u001b[1;33m.\u001b[0m\u001b[0mkeys\u001b[0m\u001b[1;33m(\u001b[0m\u001b[1;33m)\u001b[0m\u001b[1;33m)\u001b[0m\u001b[1;33m)\u001b[0m\u001b[1;33m\u001b[0m\u001b[1;33m\u001b[0m\u001b[0m\n\u001b[0;32m    911\u001b[0m     \u001b[0mcolumns\u001b[0m \u001b[1;33m=\u001b[0m \u001b[1;33m[\u001b[0m\u001b[0mnames\u001b[0m\u001b[1;33m.\u001b[0m\u001b[0mget\u001b[0m\u001b[1;33m(\u001b[0m\u001b[1;36m1\u001b[0m \u001b[1;33m+\u001b[0m \u001b[0mi\u001b[0m\u001b[1;33m,\u001b[0m \u001b[0mi\u001b[0m\u001b[1;33m)\u001b[0m \u001b[1;32mfor\u001b[0m \u001b[0mi\u001b[0m \u001b[1;32min\u001b[0m \u001b[0mrange\u001b[0m\u001b[1;33m(\u001b[0m\u001b[0mregex\u001b[0m\u001b[1;33m.\u001b[0m\u001b[0mgroups\u001b[0m\u001b[1;33m)\u001b[0m\u001b[1;33m]\u001b[0m\u001b[1;33m\u001b[0m\u001b[1;33m\u001b[0m\u001b[0m\n",
      "\u001b[1;32m~\\anaconda3\\lib\\site-packages\\pandas\\core\\strings.py\u001b[0m in \u001b[0;36m_groups_or_na_fun\u001b[1;34m(regex)\u001b[0m\n\u001b[0;32m    837\u001b[0m     \u001b[1;34m\"\"\"Used in both extract_noexpand and extract_frame\"\"\"\u001b[0m\u001b[1;33m\u001b[0m\u001b[1;33m\u001b[0m\u001b[0m\n\u001b[0;32m    838\u001b[0m     \u001b[1;32mif\u001b[0m \u001b[0mregex\u001b[0m\u001b[1;33m.\u001b[0m\u001b[0mgroups\u001b[0m \u001b[1;33m==\u001b[0m \u001b[1;36m0\u001b[0m\u001b[1;33m:\u001b[0m\u001b[1;33m\u001b[0m\u001b[1;33m\u001b[0m\u001b[0m\n\u001b[1;32m--> 839\u001b[1;33m         \u001b[1;32mraise\u001b[0m \u001b[0mValueError\u001b[0m\u001b[1;33m(\u001b[0m\u001b[1;34m\"pattern contains no capture groups\"\u001b[0m\u001b[1;33m)\u001b[0m\u001b[1;33m\u001b[0m\u001b[1;33m\u001b[0m\u001b[0m\n\u001b[0m\u001b[0;32m    840\u001b[0m     \u001b[0mempty_row\u001b[0m \u001b[1;33m=\u001b[0m \u001b[1;33m[\u001b[0m\u001b[0mnp\u001b[0m\u001b[1;33m.\u001b[0m\u001b[0mnan\u001b[0m\u001b[1;33m]\u001b[0m \u001b[1;33m*\u001b[0m \u001b[0mregex\u001b[0m\u001b[1;33m.\u001b[0m\u001b[0mgroups\u001b[0m\u001b[1;33m\u001b[0m\u001b[1;33m\u001b[0m\u001b[0m\n\u001b[0;32m    841\u001b[0m \u001b[1;33m\u001b[0m\u001b[0m\n",
      "\u001b[1;31mValueError\u001b[0m: pattern contains no capture groups"
     ]
    }
   ],
   "source": [
    "accre_df['REQMEMNODE'] = accre_df['REQMEM'].str.extract('.*n$')\n",
    "accre_df"
   ]
  },
  {
   "cell_type": "code",
   "execution_count": 80,
   "metadata": {},
   "outputs": [
    {
     "data": {
      "text/html": [
       "<div>\n",
       "<style scoped>\n",
       "    .dataframe tbody tr th:only-of-type {\n",
       "        vertical-align: middle;\n",
       "    }\n",
       "\n",
       "    .dataframe tbody tr th {\n",
       "        vertical-align: top;\n",
       "    }\n",
       "\n",
       "    .dataframe thead th {\n",
       "        text-align: right;\n",
       "    }\n",
       "</style>\n",
       "<table border=\"1\" class=\"dataframe\">\n",
       "  <thead>\n",
       "    <tr style=\"text-align: right;\">\n",
       "      <th></th>\n",
       "      <th>JOBID</th>\n",
       "      <th>ACCOUNT</th>\n",
       "      <th>USER</th>\n",
       "      <th>REQMEM</th>\n",
       "      <th>USEDMEM</th>\n",
       "      <th>REQTIME</th>\n",
       "      <th>USEDTIME</th>\n",
       "      <th>NODES</th>\n",
       "      <th>CPUS</th>\n",
       "      <th>PARTITION</th>\n",
       "      <th>EXITCODE</th>\n",
       "      <th>STATE</th>\n",
       "      <th>NODE1</th>\n",
       "      <th>NODE2</th>\n",
       "      <th>NODE3</th>\n",
       "      <th>NODE4</th>\n",
       "      <th>NODE5</th>\n",
       "      <th>NODE6</th>\n",
       "    </tr>\n",
       "  </thead>\n",
       "  <tbody>\n",
       "    <tr>\n",
       "      <th>1</th>\n",
       "      <td>15925210</td>\n",
       "      <td>treviso</td>\n",
       "      <td>arabella</td>\n",
       "      <td>122880Mn</td>\n",
       "      <td>65973.49M</td>\n",
       "      <td>13-18:00:00</td>\n",
       "      <td>13-18:00:28</td>\n",
       "      <td>1</td>\n",
       "      <td>24.0</td>\n",
       "      <td>production</td>\n",
       "      <td>0:0</td>\n",
       "      <td>COMPLETED</td>\n",
       "      <td>cn1531</td>\n",
       "      <td>NaN</td>\n",
       "      <td>NaN</td>\n",
       "      <td>NaN</td>\n",
       "      <td>NaN</td>\n",
       "      <td>NaN</td>\n",
       "    </tr>\n",
       "    <tr>\n",
       "      <th>2</th>\n",
       "      <td>15861126</td>\n",
       "      <td>treviso</td>\n",
       "      <td>arabella</td>\n",
       "      <td>122880Mn</td>\n",
       "      <td>67181.12M</td>\n",
       "      <td>13-18:00:00</td>\n",
       "      <td>12-14:50:56</td>\n",
       "      <td>1</td>\n",
       "      <td>24.0</td>\n",
       "      <td>production</td>\n",
       "      <td>0:0</td>\n",
       "      <td>COMPLETED</td>\n",
       "      <td>cn1441</td>\n",
       "      <td>NaN</td>\n",
       "      <td>NaN</td>\n",
       "      <td>NaN</td>\n",
       "      <td>NaN</td>\n",
       "      <td>NaN</td>\n",
       "    </tr>\n",
       "    <tr>\n",
       "      <th>3</th>\n",
       "      <td>15861125</td>\n",
       "      <td>treviso</td>\n",
       "      <td>arabella</td>\n",
       "      <td>122880Mn</td>\n",
       "      <td>69111.86M</td>\n",
       "      <td>13-18:00:00</td>\n",
       "      <td>13-18:00:20</td>\n",
       "      <td>1</td>\n",
       "      <td>24.0</td>\n",
       "      <td>production</td>\n",
       "      <td>0:0</td>\n",
       "      <td>COMPLETED</td>\n",
       "      <td>cn1464</td>\n",
       "      <td>NaN</td>\n",
       "      <td>NaN</td>\n",
       "      <td>NaN</td>\n",
       "      <td>NaN</td>\n",
       "      <td>NaN</td>\n",
       "    </tr>\n",
       "    <tr>\n",
       "      <th>4</th>\n",
       "      <td>16251645</td>\n",
       "      <td>treviso</td>\n",
       "      <td>arabella</td>\n",
       "      <td>122880Mn</td>\n",
       "      <td>65317.33M</td>\n",
       "      <td>13-18:00:00</td>\n",
       "      <td>12-03:50:32</td>\n",
       "      <td>1</td>\n",
       "      <td>24.0</td>\n",
       "      <td>production</td>\n",
       "      <td>0:0</td>\n",
       "      <td>COMPLETED</td>\n",
       "      <td>cn1473</td>\n",
       "      <td>NaN</td>\n",
       "      <td>NaN</td>\n",
       "      <td>NaN</td>\n",
       "      <td>NaN</td>\n",
       "      <td>NaN</td>\n",
       "    </tr>\n",
       "    <tr>\n",
       "      <th>5</th>\n",
       "      <td>16251646</td>\n",
       "      <td>treviso</td>\n",
       "      <td>arabella</td>\n",
       "      <td>122880Mn</td>\n",
       "      <td>65876.11M</td>\n",
       "      <td>13-18:00:00</td>\n",
       "      <td>13-18:00:03</td>\n",
       "      <td>1</td>\n",
       "      <td>24.0</td>\n",
       "      <td>production</td>\n",
       "      <td>0:0</td>\n",
       "      <td>COMPLETED</td>\n",
       "      <td>cn1440</td>\n",
       "      <td>NaN</td>\n",
       "      <td>NaN</td>\n",
       "      <td>NaN</td>\n",
       "      <td>NaN</td>\n",
       "      <td>NaN</td>\n",
       "    </tr>\n",
       "    <tr>\n",
       "      <th>...</th>\n",
       "      <td>...</td>\n",
       "      <td>...</td>\n",
       "      <td>...</td>\n",
       "      <td>...</td>\n",
       "      <td>...</td>\n",
       "      <td>...</td>\n",
       "      <td>...</td>\n",
       "      <td>...</td>\n",
       "      <td>...</td>\n",
       "      <td>...</td>\n",
       "      <td>...</td>\n",
       "      <td>...</td>\n",
       "      <td>...</td>\n",
       "      <td>...</td>\n",
       "      <td>...</td>\n",
       "      <td>...</td>\n",
       "      <td>...</td>\n",
       "      <td>...</td>\n",
       "    </tr>\n",
       "    <tr>\n",
       "      <th>3816286</th>\n",
       "      <td>24173815_8</td>\n",
       "      <td>portabella</td>\n",
       "      <td>vennie</td>\n",
       "      <td>32768Mn</td>\n",
       "      <td>30042.68M</td>\n",
       "      <td>1-00:00:00</td>\n",
       "      <td>00:02:27</td>\n",
       "      <td>1</td>\n",
       "      <td>2.0</td>\n",
       "      <td>production</td>\n",
       "      <td>0:0</td>\n",
       "      <td>COMPLETED</td>\n",
       "      <td>cn312</td>\n",
       "      <td>NaN</td>\n",
       "      <td>NaN</td>\n",
       "      <td>NaN</td>\n",
       "      <td>NaN</td>\n",
       "      <td>NaN</td>\n",
       "    </tr>\n",
       "    <tr>\n",
       "      <th>3816287</th>\n",
       "      <td>24173815_9</td>\n",
       "      <td>portabella</td>\n",
       "      <td>vennie</td>\n",
       "      <td>32768Mn</td>\n",
       "      <td>31067.75M</td>\n",
       "      <td>1-00:00:00</td>\n",
       "      <td>00:02:27</td>\n",
       "      <td>1</td>\n",
       "      <td>2.0</td>\n",
       "      <td>production</td>\n",
       "      <td>0:0</td>\n",
       "      <td>COMPLETED</td>\n",
       "      <td>cn312</td>\n",
       "      <td>NaN</td>\n",
       "      <td>NaN</td>\n",
       "      <td>NaN</td>\n",
       "      <td>NaN</td>\n",
       "      <td>NaN</td>\n",
       "    </tr>\n",
       "    <tr>\n",
       "      <th>3816288</th>\n",
       "      <td>24173815_10</td>\n",
       "      <td>portabella</td>\n",
       "      <td>vennie</td>\n",
       "      <td>32768Mn</td>\n",
       "      <td>21207.96M</td>\n",
       "      <td>1-00:00:00</td>\n",
       "      <td>00:01:40</td>\n",
       "      <td>1</td>\n",
       "      <td>2.0</td>\n",
       "      <td>production</td>\n",
       "      <td>0:0</td>\n",
       "      <td>COMPLETED</td>\n",
       "      <td>cn368</td>\n",
       "      <td>NaN</td>\n",
       "      <td>NaN</td>\n",
       "      <td>NaN</td>\n",
       "      <td>NaN</td>\n",
       "      <td>NaN</td>\n",
       "    </tr>\n",
       "    <tr>\n",
       "      <th>3816289</th>\n",
       "      <td>24173817</td>\n",
       "      <td>boysenberries</td>\n",
       "      <td>hortensia</td>\n",
       "      <td>100000Mn</td>\n",
       "      <td>0</td>\n",
       "      <td>1-00:00:00</td>\n",
       "      <td>00:03:05</td>\n",
       "      <td>1</td>\n",
       "      <td>8.0</td>\n",
       "      <td>production</td>\n",
       "      <td>0:0</td>\n",
       "      <td>RUNNING</td>\n",
       "      <td>cn1509</td>\n",
       "      <td>NaN</td>\n",
       "      <td>NaN</td>\n",
       "      <td>NaN</td>\n",
       "      <td>NaN</td>\n",
       "      <td>NaN</td>\n",
       "    </tr>\n",
       "    <tr>\n",
       "      <th>3816290</th>\n",
       "      <td>24173866</td>\n",
       "      <td>horseradish</td>\n",
       "      <td>ariane</td>\n",
       "      <td>20480Mn</td>\n",
       "      <td>0</td>\n",
       "      <td>05:00:00</td>\n",
       "      <td>00:02:05</td>\n",
       "      <td>1</td>\n",
       "      <td>1.0</td>\n",
       "      <td>production</td>\n",
       "      <td>0:0</td>\n",
       "      <td>RUNNING</td>\n",
       "      <td>cn1131</td>\n",
       "      <td>NaN</td>\n",
       "      <td>NaN</td>\n",
       "      <td>NaN</td>\n",
       "      <td>NaN</td>\n",
       "      <td>NaN</td>\n",
       "    </tr>\n",
       "  </tbody>\n",
       "</table>\n",
       "<p>3816290 rows × 18 columns</p>\n",
       "</div>"
      ],
      "text/plain": [
       "               JOBID        ACCOUNT       USER    REQMEM    USEDMEM  \\\n",
       "1           15925210        treviso   arabella  122880Mn  65973.49M   \n",
       "2           15861126        treviso   arabella  122880Mn  67181.12M   \n",
       "3           15861125        treviso   arabella  122880Mn  69111.86M   \n",
       "4           16251645        treviso   arabella  122880Mn  65317.33M   \n",
       "5           16251646        treviso   arabella  122880Mn  65876.11M   \n",
       "...              ...            ...        ...       ...        ...   \n",
       "3816286   24173815_8     portabella     vennie   32768Mn  30042.68M   \n",
       "3816287   24173815_9     portabella     vennie   32768Mn  31067.75M   \n",
       "3816288  24173815_10     portabella     vennie   32768Mn  21207.96M   \n",
       "3816289     24173817  boysenberries  hortensia  100000Mn          0   \n",
       "3816290     24173866    horseradish     ariane   20480Mn          0   \n",
       "\n",
       "             REQTIME     USEDTIME NODES  CPUS   PARTITION EXITCODE      STATE  \\\n",
       "1        13-18:00:00  13-18:00:28     1  24.0  production      0:0  COMPLETED   \n",
       "2        13-18:00:00  12-14:50:56     1  24.0  production      0:0  COMPLETED   \n",
       "3        13-18:00:00  13-18:00:20     1  24.0  production      0:0  COMPLETED   \n",
       "4        13-18:00:00  12-03:50:32     1  24.0  production      0:0  COMPLETED   \n",
       "5        13-18:00:00  13-18:00:03     1  24.0  production      0:0  COMPLETED   \n",
       "...              ...          ...   ...   ...         ...      ...        ...   \n",
       "3816286   1-00:00:00     00:02:27     1   2.0  production      0:0  COMPLETED   \n",
       "3816287   1-00:00:00     00:02:27     1   2.0  production      0:0  COMPLETED   \n",
       "3816288   1-00:00:00     00:01:40     1   2.0  production      0:0  COMPLETED   \n",
       "3816289   1-00:00:00     00:03:05     1   8.0  production      0:0    RUNNING   \n",
       "3816290     05:00:00     00:02:05     1   1.0  production      0:0    RUNNING   \n",
       "\n",
       "          NODE1 NODE2 NODE3 NODE4 NODE5 NODE6  \n",
       "1        cn1531   NaN   NaN   NaN   NaN   NaN  \n",
       "2        cn1441   NaN   NaN   NaN   NaN   NaN  \n",
       "3        cn1464   NaN   NaN   NaN   NaN   NaN  \n",
       "4        cn1473   NaN   NaN   NaN   NaN   NaN  \n",
       "5        cn1440   NaN   NaN   NaN   NaN   NaN  \n",
       "...         ...   ...   ...   ...   ...   ...  \n",
       "3816286   cn312   NaN   NaN   NaN   NaN   NaN  \n",
       "3816287   cn312   NaN   NaN   NaN   NaN   NaN  \n",
       "3816288   cn368   NaN   NaN   NaN   NaN   NaN  \n",
       "3816289  cn1509   NaN   NaN   NaN   NaN   NaN  \n",
       "3816290  cn1131   NaN   NaN   NaN   NaN   NaN  \n",
       "\n",
       "[3816290 rows x 18 columns]"
      ]
     },
     "execution_count": 80,
     "metadata": {},
     "output_type": "execute_result"
    }
   ],
   "source": [
    "accre_df.groupby(['CPUS']).size().sort_values(ascending=True)\n",
    "accre_df"
   ]
  },
  {
   "cell_type": "code",
   "execution_count": 127,
   "metadata": {},
   "outputs": [
    {
     "data": {
      "text/html": [
       "<div>\n",
       "<style scoped>\n",
       "    .dataframe tbody tr th:only-of-type {\n",
       "        vertical-align: middle;\n",
       "    }\n",
       "\n",
       "    .dataframe tbody tr th {\n",
       "        vertical-align: top;\n",
       "    }\n",
       "\n",
       "    .dataframe thead th {\n",
       "        text-align: right;\n",
       "    }\n",
       "</style>\n",
       "<table border=\"1\" class=\"dataframe\">\n",
       "  <thead>\n",
       "    <tr style=\"text-align: right;\">\n",
       "      <th></th>\n",
       "      <th>col1</th>\n",
       "    </tr>\n",
       "  </thead>\n",
       "  <tbody>\n",
       "    <tr>\n",
       "      <th>0</th>\n",
       "      <td>29348Mn</td>\n",
       "    </tr>\n",
       "    <tr>\n",
       "      <th>1</th>\n",
       "      <td>239039Mc</td>\n",
       "    </tr>\n",
       "  </tbody>\n",
       "</table>\n",
       "</div>"
      ],
      "text/plain": [
       "       col1\n",
       "0   29348Mn\n",
       "1  239039Mc"
      ]
     },
     "execution_count": 127,
     "metadata": {},
     "output_type": "execute_result"
    }
   ],
   "source": [
    "#testing\n",
    "d = {'col1': ['29348Mn','239039Mc']}\n",
    "df = pd.DataFrame(data=d)\n",
    "df"
   ]
  },
  {
   "cell_type": "code",
   "execution_count": 108,
   "metadata": {},
   "outputs": [
    {
     "data": {
      "text/plain": [
       "['29348Mn']"
      ]
     },
     "execution_count": 108,
     "metadata": {},
     "output_type": "execute_result"
    }
   ],
   "source": [
    "x = '29348Mn'\n",
    "re.findall('.*Mn$',x)"
   ]
  },
  {
   "cell_type": "code",
   "execution_count": 128,
   "metadata": {},
   "outputs": [],
   "source": [
    "df['new'] = df['col1'].str.extract('(.*)Mn$')"
   ]
  },
  {
   "cell_type": "code",
   "execution_count": null,
   "metadata": {},
   "outputs": [],
   "source": []
  },
  {
   "cell_type": "code",
   "execution_count": 71,
   "metadata": {},
   "outputs": [
    {
     "data": {
      "text/plain": [
       "array(['NODES', '1', '4', '2', '3', 1, 5, 38, 30, 25, 21, 13, 19, 23, 2,\n",
       "       3, 4, 12, 51, 37, 75, 126, 11, 10, 20, 40, 41, 97, 45, 6, 63, 8,\n",
       "       143, 15, 24, 35, 48, 80, 99, 120, 64, 121, 39, 55, 9, 66, 27, 17,\n",
       "       28, 53, 34, 70, 67, 59, 77, 58, 43, 31, 61, 52, 50, 16, 26, 22, 14,\n",
       "       112, 7, 95, 109, 100, 149, 146, 114, 94, 87, 140, 142, 44, 156,\n",
       "       163, 62, 129, 68, 200, 400, 500, 18, 93], dtype=object)"
      ]
     },
     "execution_count": 71,
     "metadata": {},
     "output_type": "execute_result"
    }
   ],
   "source": [
    "accre_df['NODES'].unique()"
   ]
  },
  {
   "cell_type": "code",
   "execution_count": 72,
   "metadata": {},
   "outputs": [
    {
     "data": {
      "text/plain": [
       "array(['CPUS', '24', '1', '16', '7', '4', '12', '2', '5', '8', '11', '6',\n",
       "       '3', '9', '32', '64', '0', '10', 1, 12, 16, 8, 32, 4, 10, 2, 3, 5,\n",
       "       7, 6, 11, 64, 9, 20, 24, 15, 14, 13, 18, 22, 0, 19], dtype=object)"
      ]
     },
     "execution_count": 72,
     "metadata": {},
     "output_type": "execute_result"
    }
   ],
   "source": [
    "accre_df['CPUS'].unique()"
   ]
  },
  {
   "cell_type": "code",
   "execution_count": null,
   "metadata": {},
   "outputs": [],
   "source": [
    "#split\n",
    "np.where \n",
    "df[] = endwith"
   ]
  },
  {
   "cell_type": "code",
   "execution_count": 78,
   "metadata": {},
   "outputs": [],
   "source": [
    "# split where ends with c and m"
   ]
  },
  {
   "cell_type": "code",
   "execution_count": null,
   "metadata": {},
   "outputs": [],
   "source": [
    "# replace mn and mc with nothing"
   ]
  },
  {
   "cell_type": "code",
   "execution_count": null,
   "metadata": {},
   "outputs": [],
   "source": [
    "#aggreaget columns\n"
   ]
  },
  {
   "cell_type": "code",
   "execution_count": 77,
   "metadata": {},
   "outputs": [
    {
     "ename": "AttributeError",
     "evalue": "'Series' object has no attribute 'endswith'",
     "output_type": "error",
     "traceback": [
      "\u001b[1;31m---------------------------------------------------------------------------\u001b[0m",
      "\u001b[1;31mAttributeError\u001b[0m                            Traceback (most recent call last)",
      "\u001b[1;32m<ipython-input-77-12ff2d77e992>\u001b[0m in \u001b[0;36m<module>\u001b[1;34m\u001b[0m\n\u001b[1;32m----> 1\u001b[1;33m \u001b[0mresult\u001b[0m \u001b[1;33m=\u001b[0m \u001b[0maccre_df\u001b[0m\u001b[1;33m[\u001b[0m\u001b[1;34m'REQMEM'\u001b[0m\u001b[1;33m]\u001b[0m\u001b[1;33m.\u001b[0m\u001b[0mendswith\u001b[0m\u001b[1;33m(\u001b[0m\u001b[1;34m'Mc'\u001b[0m\u001b[1;33m)\u001b[0m\u001b[1;33m\u001b[0m\u001b[1;33m\u001b[0m\u001b[0m\n\u001b[0m\u001b[0;32m      2\u001b[0m \u001b[0mresult\u001b[0m\u001b[1;33m\u001b[0m\u001b[1;33m\u001b[0m\u001b[0m\n",
      "\u001b[1;32m~\\anaconda3\\lib\\site-packages\\pandas\\core\\generic.py\u001b[0m in \u001b[0;36m__getattr__\u001b[1;34m(self, name)\u001b[0m\n\u001b[0;32m   5272\u001b[0m             \u001b[1;32mif\u001b[0m \u001b[0mself\u001b[0m\u001b[1;33m.\u001b[0m\u001b[0m_info_axis\u001b[0m\u001b[1;33m.\u001b[0m\u001b[0m_can_hold_identifiers_and_holds_name\u001b[0m\u001b[1;33m(\u001b[0m\u001b[0mname\u001b[0m\u001b[1;33m)\u001b[0m\u001b[1;33m:\u001b[0m\u001b[1;33m\u001b[0m\u001b[1;33m\u001b[0m\u001b[0m\n\u001b[0;32m   5273\u001b[0m                 \u001b[1;32mreturn\u001b[0m \u001b[0mself\u001b[0m\u001b[1;33m[\u001b[0m\u001b[0mname\u001b[0m\u001b[1;33m]\u001b[0m\u001b[1;33m\u001b[0m\u001b[1;33m\u001b[0m\u001b[0m\n\u001b[1;32m-> 5274\u001b[1;33m             \u001b[1;32mreturn\u001b[0m \u001b[0mobject\u001b[0m\u001b[1;33m.\u001b[0m\u001b[0m__getattribute__\u001b[0m\u001b[1;33m(\u001b[0m\u001b[0mself\u001b[0m\u001b[1;33m,\u001b[0m \u001b[0mname\u001b[0m\u001b[1;33m)\u001b[0m\u001b[1;33m\u001b[0m\u001b[1;33m\u001b[0m\u001b[0m\n\u001b[0m\u001b[0;32m   5275\u001b[0m \u001b[1;33m\u001b[0m\u001b[0m\n\u001b[0;32m   5276\u001b[0m     \u001b[1;32mdef\u001b[0m \u001b[0m__setattr__\u001b[0m\u001b[1;33m(\u001b[0m\u001b[0mself\u001b[0m\u001b[1;33m,\u001b[0m \u001b[0mname\u001b[0m\u001b[1;33m:\u001b[0m \u001b[0mstr\u001b[0m\u001b[1;33m,\u001b[0m \u001b[0mvalue\u001b[0m\u001b[1;33m)\u001b[0m \u001b[1;33m->\u001b[0m \u001b[1;32mNone\u001b[0m\u001b[1;33m:\u001b[0m\u001b[1;33m\u001b[0m\u001b[1;33m\u001b[0m\u001b[0m\n",
      "\u001b[1;31mAttributeError\u001b[0m: 'Series' object has no attribute 'endswith'"
     ]
    }
   ],
   "source": [
    "result = accre_df['REQMEM'].endswith('Mc')\n",
    "result "
   ]
  },
  {
   "cell_type": "code",
   "execution_count": 76,
   "metadata": {},
   "outputs": [
    {
     "ename": "ValueError",
     "evalue": "could not convert string to float: 'NODES'",
     "output_type": "error",
     "traceback": [
      "\u001b[1;31m---------------------------------------------------------------------------\u001b[0m",
      "\u001b[1;31mValueError\u001b[0m                                Traceback (most recent call last)",
      "\u001b[1;32m<ipython-input-76-ab7d7c99021d>\u001b[0m in \u001b[0;36m<module>\u001b[1;34m\u001b[0m\n\u001b[1;32m----> 1\u001b[1;33m \u001b[0maccre_df\u001b[0m\u001b[1;33m[\u001b[0m\u001b[1;34m'NODES'\u001b[0m\u001b[1;33m]\u001b[0m\u001b[1;33m=\u001b[0m \u001b[0maccre_df\u001b[0m\u001b[1;33m[\u001b[0m\u001b[1;34m'NODES'\u001b[0m\u001b[1;33m]\u001b[0m\u001b[1;33m.\u001b[0m\u001b[0mastype\u001b[0m\u001b[1;33m(\u001b[0m\u001b[0mstr\u001b[0m\u001b[1;33m)\u001b[0m\u001b[1;33m.\u001b[0m\u001b[0mastype\u001b[0m\u001b[1;33m(\u001b[0m\u001b[0mfloat\u001b[0m\u001b[1;33m)\u001b[0m\u001b[1;33m\u001b[0m\u001b[1;33m\u001b[0m\u001b[0m\n\u001b[0m",
      "\u001b[1;32m~\\anaconda3\\lib\\site-packages\\pandas\\core\\generic.py\u001b[0m in \u001b[0;36mastype\u001b[1;34m(self, dtype, copy, errors)\u001b[0m\n\u001b[0;32m   5696\u001b[0m         \u001b[1;32melse\u001b[0m\u001b[1;33m:\u001b[0m\u001b[1;33m\u001b[0m\u001b[1;33m\u001b[0m\u001b[0m\n\u001b[0;32m   5697\u001b[0m             \u001b[1;31m# else, only a single dtype is given\u001b[0m\u001b[1;33m\u001b[0m\u001b[1;33m\u001b[0m\u001b[1;33m\u001b[0m\u001b[0m\n\u001b[1;32m-> 5698\u001b[1;33m             \u001b[0mnew_data\u001b[0m \u001b[1;33m=\u001b[0m \u001b[0mself\u001b[0m\u001b[1;33m.\u001b[0m\u001b[0m_data\u001b[0m\u001b[1;33m.\u001b[0m\u001b[0mastype\u001b[0m\u001b[1;33m(\u001b[0m\u001b[0mdtype\u001b[0m\u001b[1;33m=\u001b[0m\u001b[0mdtype\u001b[0m\u001b[1;33m,\u001b[0m \u001b[0mcopy\u001b[0m\u001b[1;33m=\u001b[0m\u001b[0mcopy\u001b[0m\u001b[1;33m,\u001b[0m \u001b[0merrors\u001b[0m\u001b[1;33m=\u001b[0m\u001b[0merrors\u001b[0m\u001b[1;33m)\u001b[0m\u001b[1;33m\u001b[0m\u001b[1;33m\u001b[0m\u001b[0m\n\u001b[0m\u001b[0;32m   5699\u001b[0m             \u001b[1;32mreturn\u001b[0m \u001b[0mself\u001b[0m\u001b[1;33m.\u001b[0m\u001b[0m_constructor\u001b[0m\u001b[1;33m(\u001b[0m\u001b[0mnew_data\u001b[0m\u001b[1;33m)\u001b[0m\u001b[1;33m.\u001b[0m\u001b[0m__finalize__\u001b[0m\u001b[1;33m(\u001b[0m\u001b[0mself\u001b[0m\u001b[1;33m)\u001b[0m\u001b[1;33m\u001b[0m\u001b[1;33m\u001b[0m\u001b[0m\n\u001b[0;32m   5700\u001b[0m \u001b[1;33m\u001b[0m\u001b[0m\n",
      "\u001b[1;32m~\\anaconda3\\lib\\site-packages\\pandas\\core\\internals\\managers.py\u001b[0m in \u001b[0;36mastype\u001b[1;34m(self, dtype, copy, errors)\u001b[0m\n\u001b[0;32m    580\u001b[0m \u001b[1;33m\u001b[0m\u001b[0m\n\u001b[0;32m    581\u001b[0m     \u001b[1;32mdef\u001b[0m \u001b[0mastype\u001b[0m\u001b[1;33m(\u001b[0m\u001b[0mself\u001b[0m\u001b[1;33m,\u001b[0m \u001b[0mdtype\u001b[0m\u001b[1;33m,\u001b[0m \u001b[0mcopy\u001b[0m\u001b[1;33m:\u001b[0m \u001b[0mbool\u001b[0m \u001b[1;33m=\u001b[0m \u001b[1;32mFalse\u001b[0m\u001b[1;33m,\u001b[0m \u001b[0merrors\u001b[0m\u001b[1;33m:\u001b[0m \u001b[0mstr\u001b[0m \u001b[1;33m=\u001b[0m \u001b[1;34m\"raise\"\u001b[0m\u001b[1;33m)\u001b[0m\u001b[1;33m:\u001b[0m\u001b[1;33m\u001b[0m\u001b[1;33m\u001b[0m\u001b[0m\n\u001b[1;32m--> 582\u001b[1;33m         \u001b[1;32mreturn\u001b[0m \u001b[0mself\u001b[0m\u001b[1;33m.\u001b[0m\u001b[0mapply\u001b[0m\u001b[1;33m(\u001b[0m\u001b[1;34m\"astype\"\u001b[0m\u001b[1;33m,\u001b[0m \u001b[0mdtype\u001b[0m\u001b[1;33m=\u001b[0m\u001b[0mdtype\u001b[0m\u001b[1;33m,\u001b[0m \u001b[0mcopy\u001b[0m\u001b[1;33m=\u001b[0m\u001b[0mcopy\u001b[0m\u001b[1;33m,\u001b[0m \u001b[0merrors\u001b[0m\u001b[1;33m=\u001b[0m\u001b[0merrors\u001b[0m\u001b[1;33m)\u001b[0m\u001b[1;33m\u001b[0m\u001b[1;33m\u001b[0m\u001b[0m\n\u001b[0m\u001b[0;32m    583\u001b[0m \u001b[1;33m\u001b[0m\u001b[0m\n\u001b[0;32m    584\u001b[0m     \u001b[1;32mdef\u001b[0m \u001b[0mconvert\u001b[0m\u001b[1;33m(\u001b[0m\u001b[0mself\u001b[0m\u001b[1;33m,\u001b[0m \u001b[1;33m**\u001b[0m\u001b[0mkwargs\u001b[0m\u001b[1;33m)\u001b[0m\u001b[1;33m:\u001b[0m\u001b[1;33m\u001b[0m\u001b[1;33m\u001b[0m\u001b[0m\n",
      "\u001b[1;32m~\\anaconda3\\lib\\site-packages\\pandas\\core\\internals\\managers.py\u001b[0m in \u001b[0;36mapply\u001b[1;34m(self, f, filter, **kwargs)\u001b[0m\n\u001b[0;32m    440\u001b[0m                 \u001b[0mapplied\u001b[0m \u001b[1;33m=\u001b[0m \u001b[0mb\u001b[0m\u001b[1;33m.\u001b[0m\u001b[0mapply\u001b[0m\u001b[1;33m(\u001b[0m\u001b[0mf\u001b[0m\u001b[1;33m,\u001b[0m \u001b[1;33m**\u001b[0m\u001b[0mkwargs\u001b[0m\u001b[1;33m)\u001b[0m\u001b[1;33m\u001b[0m\u001b[1;33m\u001b[0m\u001b[0m\n\u001b[0;32m    441\u001b[0m             \u001b[1;32melse\u001b[0m\u001b[1;33m:\u001b[0m\u001b[1;33m\u001b[0m\u001b[1;33m\u001b[0m\u001b[0m\n\u001b[1;32m--> 442\u001b[1;33m                 \u001b[0mapplied\u001b[0m \u001b[1;33m=\u001b[0m \u001b[0mgetattr\u001b[0m\u001b[1;33m(\u001b[0m\u001b[0mb\u001b[0m\u001b[1;33m,\u001b[0m \u001b[0mf\u001b[0m\u001b[1;33m)\u001b[0m\u001b[1;33m(\u001b[0m\u001b[1;33m**\u001b[0m\u001b[0mkwargs\u001b[0m\u001b[1;33m)\u001b[0m\u001b[1;33m\u001b[0m\u001b[1;33m\u001b[0m\u001b[0m\n\u001b[0m\u001b[0;32m    443\u001b[0m             \u001b[0mresult_blocks\u001b[0m \u001b[1;33m=\u001b[0m \u001b[0m_extend_blocks\u001b[0m\u001b[1;33m(\u001b[0m\u001b[0mapplied\u001b[0m\u001b[1;33m,\u001b[0m \u001b[0mresult_blocks\u001b[0m\u001b[1;33m)\u001b[0m\u001b[1;33m\u001b[0m\u001b[1;33m\u001b[0m\u001b[0m\n\u001b[0;32m    444\u001b[0m \u001b[1;33m\u001b[0m\u001b[0m\n",
      "\u001b[1;32m~\\anaconda3\\lib\\site-packages\\pandas\\core\\internals\\blocks.py\u001b[0m in \u001b[0;36mastype\u001b[1;34m(self, dtype, copy, errors)\u001b[0m\n\u001b[0;32m    623\u001b[0m             \u001b[0mvals1d\u001b[0m \u001b[1;33m=\u001b[0m \u001b[0mvalues\u001b[0m\u001b[1;33m.\u001b[0m\u001b[0mravel\u001b[0m\u001b[1;33m(\u001b[0m\u001b[1;33m)\u001b[0m\u001b[1;33m\u001b[0m\u001b[1;33m\u001b[0m\u001b[0m\n\u001b[0;32m    624\u001b[0m             \u001b[1;32mtry\u001b[0m\u001b[1;33m:\u001b[0m\u001b[1;33m\u001b[0m\u001b[1;33m\u001b[0m\u001b[0m\n\u001b[1;32m--> 625\u001b[1;33m                 \u001b[0mvalues\u001b[0m \u001b[1;33m=\u001b[0m \u001b[0mastype_nansafe\u001b[0m\u001b[1;33m(\u001b[0m\u001b[0mvals1d\u001b[0m\u001b[1;33m,\u001b[0m \u001b[0mdtype\u001b[0m\u001b[1;33m,\u001b[0m \u001b[0mcopy\u001b[0m\u001b[1;33m=\u001b[0m\u001b[1;32mTrue\u001b[0m\u001b[1;33m)\u001b[0m\u001b[1;33m\u001b[0m\u001b[1;33m\u001b[0m\u001b[0m\n\u001b[0m\u001b[0;32m    626\u001b[0m             \u001b[1;32mexcept\u001b[0m \u001b[1;33m(\u001b[0m\u001b[0mValueError\u001b[0m\u001b[1;33m,\u001b[0m \u001b[0mTypeError\u001b[0m\u001b[1;33m)\u001b[0m\u001b[1;33m:\u001b[0m\u001b[1;33m\u001b[0m\u001b[1;33m\u001b[0m\u001b[0m\n\u001b[0;32m    627\u001b[0m                 \u001b[1;31m# e.g. astype_nansafe can fail on object-dtype of strings\u001b[0m\u001b[1;33m\u001b[0m\u001b[1;33m\u001b[0m\u001b[1;33m\u001b[0m\u001b[0m\n",
      "\u001b[1;32m~\\anaconda3\\lib\\site-packages\\pandas\\core\\dtypes\\cast.py\u001b[0m in \u001b[0;36mastype_nansafe\u001b[1;34m(arr, dtype, copy, skipna)\u001b[0m\n\u001b[0;32m    895\u001b[0m     \u001b[1;32mif\u001b[0m \u001b[0mcopy\u001b[0m \u001b[1;32mor\u001b[0m \u001b[0mis_object_dtype\u001b[0m\u001b[1;33m(\u001b[0m\u001b[0marr\u001b[0m\u001b[1;33m)\u001b[0m \u001b[1;32mor\u001b[0m \u001b[0mis_object_dtype\u001b[0m\u001b[1;33m(\u001b[0m\u001b[0mdtype\u001b[0m\u001b[1;33m)\u001b[0m\u001b[1;33m:\u001b[0m\u001b[1;33m\u001b[0m\u001b[1;33m\u001b[0m\u001b[0m\n\u001b[0;32m    896\u001b[0m         \u001b[1;31m# Explicit copy, or required since NumPy can't view from / to object.\u001b[0m\u001b[1;33m\u001b[0m\u001b[1;33m\u001b[0m\u001b[1;33m\u001b[0m\u001b[0m\n\u001b[1;32m--> 897\u001b[1;33m         \u001b[1;32mreturn\u001b[0m \u001b[0marr\u001b[0m\u001b[1;33m.\u001b[0m\u001b[0mastype\u001b[0m\u001b[1;33m(\u001b[0m\u001b[0mdtype\u001b[0m\u001b[1;33m,\u001b[0m \u001b[0mcopy\u001b[0m\u001b[1;33m=\u001b[0m\u001b[1;32mTrue\u001b[0m\u001b[1;33m)\u001b[0m\u001b[1;33m\u001b[0m\u001b[1;33m\u001b[0m\u001b[0m\n\u001b[0m\u001b[0;32m    898\u001b[0m \u001b[1;33m\u001b[0m\u001b[0m\n\u001b[0;32m    899\u001b[0m     \u001b[1;32mreturn\u001b[0m \u001b[0marr\u001b[0m\u001b[1;33m.\u001b[0m\u001b[0mview\u001b[0m\u001b[1;33m(\u001b[0m\u001b[0mdtype\u001b[0m\u001b[1;33m)\u001b[0m\u001b[1;33m\u001b[0m\u001b[1;33m\u001b[0m\u001b[0m\n",
      "\u001b[1;31mValueError\u001b[0m: could not convert string to float: 'NODES'"
     ]
    }
   ],
   "source": [
    "accre_df['NODES']= accre_df['NODES'].astype(str).astype(float)"
   ]
  },
  {
   "cell_type": "code",
   "execution_count": 75,
   "metadata": {},
   "outputs": [
    {
     "ename": "ValueError",
     "evalue": "could not convert string to float: 'CPUS'",
     "output_type": "error",
     "traceback": [
      "\u001b[1;31m---------------------------------------------------------------------------\u001b[0m",
      "\u001b[1;31mValueError\u001b[0m                                Traceback (most recent call last)",
      "\u001b[1;32m<ipython-input-75-58944b585faa>\u001b[0m in \u001b[0;36m<module>\u001b[1;34m\u001b[0m\n\u001b[1;32m----> 1\u001b[1;33m \u001b[0maccre_df\u001b[0m\u001b[1;33m[\u001b[0m\u001b[1;34m'CPUS'\u001b[0m\u001b[1;33m]\u001b[0m\u001b[1;33m=\u001b[0m \u001b[0maccre_df\u001b[0m\u001b[1;33m[\u001b[0m\u001b[1;34m'CPUS'\u001b[0m\u001b[1;33m]\u001b[0m\u001b[1;33m.\u001b[0m\u001b[0mastype\u001b[0m\u001b[1;33m(\u001b[0m\u001b[0mstr\u001b[0m\u001b[1;33m)\u001b[0m\u001b[1;33m.\u001b[0m\u001b[0mastype\u001b[0m\u001b[1;33m(\u001b[0m\u001b[0mfloat\u001b[0m\u001b[1;33m)\u001b[0m\u001b[1;33m\u001b[0m\u001b[1;33m\u001b[0m\u001b[0m\n\u001b[0m",
      "\u001b[1;32m~\\anaconda3\\lib\\site-packages\\pandas\\core\\generic.py\u001b[0m in \u001b[0;36mastype\u001b[1;34m(self, dtype, copy, errors)\u001b[0m\n\u001b[0;32m   5696\u001b[0m         \u001b[1;32melse\u001b[0m\u001b[1;33m:\u001b[0m\u001b[1;33m\u001b[0m\u001b[1;33m\u001b[0m\u001b[0m\n\u001b[0;32m   5697\u001b[0m             \u001b[1;31m# else, only a single dtype is given\u001b[0m\u001b[1;33m\u001b[0m\u001b[1;33m\u001b[0m\u001b[1;33m\u001b[0m\u001b[0m\n\u001b[1;32m-> 5698\u001b[1;33m             \u001b[0mnew_data\u001b[0m \u001b[1;33m=\u001b[0m \u001b[0mself\u001b[0m\u001b[1;33m.\u001b[0m\u001b[0m_data\u001b[0m\u001b[1;33m.\u001b[0m\u001b[0mastype\u001b[0m\u001b[1;33m(\u001b[0m\u001b[0mdtype\u001b[0m\u001b[1;33m=\u001b[0m\u001b[0mdtype\u001b[0m\u001b[1;33m,\u001b[0m \u001b[0mcopy\u001b[0m\u001b[1;33m=\u001b[0m\u001b[0mcopy\u001b[0m\u001b[1;33m,\u001b[0m \u001b[0merrors\u001b[0m\u001b[1;33m=\u001b[0m\u001b[0merrors\u001b[0m\u001b[1;33m)\u001b[0m\u001b[1;33m\u001b[0m\u001b[1;33m\u001b[0m\u001b[0m\n\u001b[0m\u001b[0;32m   5699\u001b[0m             \u001b[1;32mreturn\u001b[0m \u001b[0mself\u001b[0m\u001b[1;33m.\u001b[0m\u001b[0m_constructor\u001b[0m\u001b[1;33m(\u001b[0m\u001b[0mnew_data\u001b[0m\u001b[1;33m)\u001b[0m\u001b[1;33m.\u001b[0m\u001b[0m__finalize__\u001b[0m\u001b[1;33m(\u001b[0m\u001b[0mself\u001b[0m\u001b[1;33m)\u001b[0m\u001b[1;33m\u001b[0m\u001b[1;33m\u001b[0m\u001b[0m\n\u001b[0;32m   5700\u001b[0m \u001b[1;33m\u001b[0m\u001b[0m\n",
      "\u001b[1;32m~\\anaconda3\\lib\\site-packages\\pandas\\core\\internals\\managers.py\u001b[0m in \u001b[0;36mastype\u001b[1;34m(self, dtype, copy, errors)\u001b[0m\n\u001b[0;32m    580\u001b[0m \u001b[1;33m\u001b[0m\u001b[0m\n\u001b[0;32m    581\u001b[0m     \u001b[1;32mdef\u001b[0m \u001b[0mastype\u001b[0m\u001b[1;33m(\u001b[0m\u001b[0mself\u001b[0m\u001b[1;33m,\u001b[0m \u001b[0mdtype\u001b[0m\u001b[1;33m,\u001b[0m \u001b[0mcopy\u001b[0m\u001b[1;33m:\u001b[0m \u001b[0mbool\u001b[0m \u001b[1;33m=\u001b[0m \u001b[1;32mFalse\u001b[0m\u001b[1;33m,\u001b[0m \u001b[0merrors\u001b[0m\u001b[1;33m:\u001b[0m \u001b[0mstr\u001b[0m \u001b[1;33m=\u001b[0m \u001b[1;34m\"raise\"\u001b[0m\u001b[1;33m)\u001b[0m\u001b[1;33m:\u001b[0m\u001b[1;33m\u001b[0m\u001b[1;33m\u001b[0m\u001b[0m\n\u001b[1;32m--> 582\u001b[1;33m         \u001b[1;32mreturn\u001b[0m \u001b[0mself\u001b[0m\u001b[1;33m.\u001b[0m\u001b[0mapply\u001b[0m\u001b[1;33m(\u001b[0m\u001b[1;34m\"astype\"\u001b[0m\u001b[1;33m,\u001b[0m \u001b[0mdtype\u001b[0m\u001b[1;33m=\u001b[0m\u001b[0mdtype\u001b[0m\u001b[1;33m,\u001b[0m \u001b[0mcopy\u001b[0m\u001b[1;33m=\u001b[0m\u001b[0mcopy\u001b[0m\u001b[1;33m,\u001b[0m \u001b[0merrors\u001b[0m\u001b[1;33m=\u001b[0m\u001b[0merrors\u001b[0m\u001b[1;33m)\u001b[0m\u001b[1;33m\u001b[0m\u001b[1;33m\u001b[0m\u001b[0m\n\u001b[0m\u001b[0;32m    583\u001b[0m \u001b[1;33m\u001b[0m\u001b[0m\n\u001b[0;32m    584\u001b[0m     \u001b[1;32mdef\u001b[0m \u001b[0mconvert\u001b[0m\u001b[1;33m(\u001b[0m\u001b[0mself\u001b[0m\u001b[1;33m,\u001b[0m \u001b[1;33m**\u001b[0m\u001b[0mkwargs\u001b[0m\u001b[1;33m)\u001b[0m\u001b[1;33m:\u001b[0m\u001b[1;33m\u001b[0m\u001b[1;33m\u001b[0m\u001b[0m\n",
      "\u001b[1;32m~\\anaconda3\\lib\\site-packages\\pandas\\core\\internals\\managers.py\u001b[0m in \u001b[0;36mapply\u001b[1;34m(self, f, filter, **kwargs)\u001b[0m\n\u001b[0;32m    440\u001b[0m                 \u001b[0mapplied\u001b[0m \u001b[1;33m=\u001b[0m \u001b[0mb\u001b[0m\u001b[1;33m.\u001b[0m\u001b[0mapply\u001b[0m\u001b[1;33m(\u001b[0m\u001b[0mf\u001b[0m\u001b[1;33m,\u001b[0m \u001b[1;33m**\u001b[0m\u001b[0mkwargs\u001b[0m\u001b[1;33m)\u001b[0m\u001b[1;33m\u001b[0m\u001b[1;33m\u001b[0m\u001b[0m\n\u001b[0;32m    441\u001b[0m             \u001b[1;32melse\u001b[0m\u001b[1;33m:\u001b[0m\u001b[1;33m\u001b[0m\u001b[1;33m\u001b[0m\u001b[0m\n\u001b[1;32m--> 442\u001b[1;33m                 \u001b[0mapplied\u001b[0m \u001b[1;33m=\u001b[0m \u001b[0mgetattr\u001b[0m\u001b[1;33m(\u001b[0m\u001b[0mb\u001b[0m\u001b[1;33m,\u001b[0m \u001b[0mf\u001b[0m\u001b[1;33m)\u001b[0m\u001b[1;33m(\u001b[0m\u001b[1;33m**\u001b[0m\u001b[0mkwargs\u001b[0m\u001b[1;33m)\u001b[0m\u001b[1;33m\u001b[0m\u001b[1;33m\u001b[0m\u001b[0m\n\u001b[0m\u001b[0;32m    443\u001b[0m             \u001b[0mresult_blocks\u001b[0m \u001b[1;33m=\u001b[0m \u001b[0m_extend_blocks\u001b[0m\u001b[1;33m(\u001b[0m\u001b[0mapplied\u001b[0m\u001b[1;33m,\u001b[0m \u001b[0mresult_blocks\u001b[0m\u001b[1;33m)\u001b[0m\u001b[1;33m\u001b[0m\u001b[1;33m\u001b[0m\u001b[0m\n\u001b[0;32m    444\u001b[0m \u001b[1;33m\u001b[0m\u001b[0m\n",
      "\u001b[1;32m~\\anaconda3\\lib\\site-packages\\pandas\\core\\internals\\blocks.py\u001b[0m in \u001b[0;36mastype\u001b[1;34m(self, dtype, copy, errors)\u001b[0m\n\u001b[0;32m    623\u001b[0m             \u001b[0mvals1d\u001b[0m \u001b[1;33m=\u001b[0m \u001b[0mvalues\u001b[0m\u001b[1;33m.\u001b[0m\u001b[0mravel\u001b[0m\u001b[1;33m(\u001b[0m\u001b[1;33m)\u001b[0m\u001b[1;33m\u001b[0m\u001b[1;33m\u001b[0m\u001b[0m\n\u001b[0;32m    624\u001b[0m             \u001b[1;32mtry\u001b[0m\u001b[1;33m:\u001b[0m\u001b[1;33m\u001b[0m\u001b[1;33m\u001b[0m\u001b[0m\n\u001b[1;32m--> 625\u001b[1;33m                 \u001b[0mvalues\u001b[0m \u001b[1;33m=\u001b[0m \u001b[0mastype_nansafe\u001b[0m\u001b[1;33m(\u001b[0m\u001b[0mvals1d\u001b[0m\u001b[1;33m,\u001b[0m \u001b[0mdtype\u001b[0m\u001b[1;33m,\u001b[0m \u001b[0mcopy\u001b[0m\u001b[1;33m=\u001b[0m\u001b[1;32mTrue\u001b[0m\u001b[1;33m)\u001b[0m\u001b[1;33m\u001b[0m\u001b[1;33m\u001b[0m\u001b[0m\n\u001b[0m\u001b[0;32m    626\u001b[0m             \u001b[1;32mexcept\u001b[0m \u001b[1;33m(\u001b[0m\u001b[0mValueError\u001b[0m\u001b[1;33m,\u001b[0m \u001b[0mTypeError\u001b[0m\u001b[1;33m)\u001b[0m\u001b[1;33m:\u001b[0m\u001b[1;33m\u001b[0m\u001b[1;33m\u001b[0m\u001b[0m\n\u001b[0;32m    627\u001b[0m                 \u001b[1;31m# e.g. astype_nansafe can fail on object-dtype of strings\u001b[0m\u001b[1;33m\u001b[0m\u001b[1;33m\u001b[0m\u001b[1;33m\u001b[0m\u001b[0m\n",
      "\u001b[1;32m~\\anaconda3\\lib\\site-packages\\pandas\\core\\dtypes\\cast.py\u001b[0m in \u001b[0;36mastype_nansafe\u001b[1;34m(arr, dtype, copy, skipna)\u001b[0m\n\u001b[0;32m    895\u001b[0m     \u001b[1;32mif\u001b[0m \u001b[0mcopy\u001b[0m \u001b[1;32mor\u001b[0m \u001b[0mis_object_dtype\u001b[0m\u001b[1;33m(\u001b[0m\u001b[0marr\u001b[0m\u001b[1;33m)\u001b[0m \u001b[1;32mor\u001b[0m \u001b[0mis_object_dtype\u001b[0m\u001b[1;33m(\u001b[0m\u001b[0mdtype\u001b[0m\u001b[1;33m)\u001b[0m\u001b[1;33m:\u001b[0m\u001b[1;33m\u001b[0m\u001b[1;33m\u001b[0m\u001b[0m\n\u001b[0;32m    896\u001b[0m         \u001b[1;31m# Explicit copy, or required since NumPy can't view from / to object.\u001b[0m\u001b[1;33m\u001b[0m\u001b[1;33m\u001b[0m\u001b[1;33m\u001b[0m\u001b[0m\n\u001b[1;32m--> 897\u001b[1;33m         \u001b[1;32mreturn\u001b[0m \u001b[0marr\u001b[0m\u001b[1;33m.\u001b[0m\u001b[0mastype\u001b[0m\u001b[1;33m(\u001b[0m\u001b[0mdtype\u001b[0m\u001b[1;33m,\u001b[0m \u001b[0mcopy\u001b[0m\u001b[1;33m=\u001b[0m\u001b[1;32mTrue\u001b[0m\u001b[1;33m)\u001b[0m\u001b[1;33m\u001b[0m\u001b[1;33m\u001b[0m\u001b[0m\n\u001b[0m\u001b[0;32m    898\u001b[0m \u001b[1;33m\u001b[0m\u001b[0m\n\u001b[0;32m    899\u001b[0m     \u001b[1;32mreturn\u001b[0m \u001b[0marr\u001b[0m\u001b[1;33m.\u001b[0m\u001b[0mview\u001b[0m\u001b[1;33m(\u001b[0m\u001b[0mdtype\u001b[0m\u001b[1;33m)\u001b[0m\u001b[1;33m\u001b[0m\u001b[1;33m\u001b[0m\u001b[0m\n",
      "\u001b[1;31mValueError\u001b[0m: could not convert string to float: 'CPUS'"
     ]
    }
   ],
   "source": [
    "accre_df['CPUS']= accre_df['CPUS'].astype(str).astype(float)"
   ]
  },
  {
   "cell_type": "code",
   "execution_count": 73,
   "metadata": {
    "scrolled": true
   },
   "outputs": [
    {
     "ename": "AttributeError",
     "evalue": "'list' object has no attribute 'astype'",
     "output_type": "error",
     "traceback": [
      "\u001b[1;31m---------------------------------------------------------------------------\u001b[0m",
      "\u001b[1;31mAttributeError\u001b[0m                            Traceback (most recent call last)",
      "\u001b[1;32m<ipython-input-73-8ecc9b3e9559>\u001b[0m in \u001b[0;36m<module>\u001b[1;34m\u001b[0m\n\u001b[1;32m----> 1\u001b[1;33m \u001b[0maccre_df\u001b[0m \u001b[1;33m=\u001b[0m \u001b[1;33m[\u001b[0m\u001b[1;34m'NODES'\u001b[0m\u001b[1;33m]\u001b[0m\u001b[1;33m.\u001b[0m\u001b[0mastype\u001b[0m\u001b[1;33m(\u001b[0m\u001b[0mstr\u001b[0m\u001b[1;33m)\u001b[0m\u001b[1;33m.\u001b[0m\u001b[0mstr\u001b[0m\u001b[1;33m.\u001b[0m\u001b[0misdigit\u001b[0m\u001b[1;33m(\u001b[0m\u001b[1;33m)\u001b[0m\u001b[1;33m\u001b[0m\u001b[1;33m\u001b[0m\u001b[0m\n\u001b[0m",
      "\u001b[1;31mAttributeError\u001b[0m: 'list' object has no attribute 'astype'"
     ]
    }
   ],
   "source": [
    "accre_df = ['NODES'].astype(str).str.isdigit()"
   ]
  },
  {
   "cell_type": "code",
   "execution_count": null,
   "metadata": {},
   "outputs": [],
   "source": [
    "accre_df = ['CPUS'].astype(str).str.isdigit()"
   ]
  },
  {
   "cell_type": "code",
   "execution_count": null,
   "metadata": {},
   "outputs": [],
   "source": [
    "clean_accre_df.groupby('ACCOUNT').mean()"
   ]
  },
  {
   "cell_type": "code",
   "execution_count": 60,
   "metadata": {
    "scrolled": true
   },
   "outputs": [
    {
     "name": "stdout",
     "output_type": "stream",
     "text": [
      "<class 'pandas.core.frame.DataFrame'>\n",
      "RangeIndex: 3816291 entries, 0 to 3816290\n",
      "Data columns (total 18 columns):\n",
      " #   Column     Dtype \n",
      "---  ------     ----- \n",
      " 0   JOBID      object\n",
      " 1   ACCOUNT    object\n",
      " 2   USER       object\n",
      " 3   REQMEM     object\n",
      " 4   USEDMEM    object\n",
      " 5   REQTIME    object\n",
      " 6   USEDTIME   object\n",
      " 7   NODES      object\n",
      " 8   CPUS       object\n",
      " 9   PARTITION  object\n",
      " 10  EXITCODE   object\n",
      " 11  STATE      object\n",
      " 12  NODE1      object\n",
      " 13  NODE2      object\n",
      " 14  NODE3      object\n",
      " 15  NODE4      object\n",
      " 16  NODE5      object\n",
      " 17  NODE6      object\n",
      "dtypes: object(18)\n",
      "memory usage: 524.1+ MB\n"
     ]
    }
   ],
   "source": [
    "accre_df.info()"
   ]
  },
  {
   "cell_type": "code",
   "execution_count": 62,
   "metadata": {},
   "outputs": [
    {
     "data": {
      "text/html": [
       "<div>\n",
       "<style scoped>\n",
       "    .dataframe tbody tr th:only-of-type {\n",
       "        vertical-align: middle;\n",
       "    }\n",
       "\n",
       "    .dataframe tbody tr th {\n",
       "        vertical-align: top;\n",
       "    }\n",
       "\n",
       "    .dataframe thead th {\n",
       "        text-align: right;\n",
       "    }\n",
       "</style>\n",
       "<table border=\"1\" class=\"dataframe\">\n",
       "  <thead>\n",
       "    <tr style=\"text-align: right;\">\n",
       "      <th></th>\n",
       "      <th>ACCOUNT</th>\n",
       "      <th>REQMEM</th>\n",
       "      <th>USEDMEM</th>\n",
       "      <th>CPUS</th>\n",
       "      <th>PARTITION</th>\n",
       "      <th>STATE</th>\n",
       "    </tr>\n",
       "  </thead>\n",
       "  <tbody>\n",
       "    <tr>\n",
       "      <th>0</th>\n",
       "      <td>ACCOUNT</td>\n",
       "      <td>REQMEM</td>\n",
       "      <td>USEDMEM</td>\n",
       "      <td>CPUS</td>\n",
       "      <td>PARTITION</td>\n",
       "      <td>STATE</td>\n",
       "    </tr>\n",
       "    <tr>\n",
       "      <th>1</th>\n",
       "      <td>treviso</td>\n",
       "      <td>122880Mn</td>\n",
       "      <td>65973.49M</td>\n",
       "      <td>24</td>\n",
       "      <td>production</td>\n",
       "      <td>COMPLETED</td>\n",
       "    </tr>\n",
       "    <tr>\n",
       "      <th>2</th>\n",
       "      <td>treviso</td>\n",
       "      <td>122880Mn</td>\n",
       "      <td>67181.12M</td>\n",
       "      <td>24</td>\n",
       "      <td>production</td>\n",
       "      <td>COMPLETED</td>\n",
       "    </tr>\n",
       "    <tr>\n",
       "      <th>3</th>\n",
       "      <td>treviso</td>\n",
       "      <td>122880Mn</td>\n",
       "      <td>69111.86M</td>\n",
       "      <td>24</td>\n",
       "      <td>production</td>\n",
       "      <td>COMPLETED</td>\n",
       "    </tr>\n",
       "    <tr>\n",
       "      <th>4</th>\n",
       "      <td>treviso</td>\n",
       "      <td>122880Mn</td>\n",
       "      <td>65317.33M</td>\n",
       "      <td>24</td>\n",
       "      <td>production</td>\n",
       "      <td>COMPLETED</td>\n",
       "    </tr>\n",
       "  </tbody>\n",
       "</table>\n",
       "</div>"
      ],
      "text/plain": [
       "   ACCOUNT    REQMEM    USEDMEM  CPUS   PARTITION      STATE\n",
       "0  ACCOUNT    REQMEM    USEDMEM  CPUS   PARTITION      STATE\n",
       "1  treviso  122880Mn  65973.49M    24  production  COMPLETED\n",
       "2  treviso  122880Mn  67181.12M    24  production  COMPLETED\n",
       "3  treviso  122880Mn  69111.86M    24  production  COMPLETED\n",
       "4  treviso  122880Mn  65317.33M    24  production  COMPLETED"
      ]
     },
     "execution_count": 62,
     "metadata": {},
     "output_type": "execute_result"
    }
   ],
   "source": [
    "clean_accre_df = accre_df.drop([\"JOBID\",\"USER\",\"REQTIME\",\n",
    "                                \"USEDTIME\",\"NODES\",\"EXITCODE\",\n",
    "                               \"NODE1\",\"NODE2\",\"NODE3\",\"NODE4\",\"NODE5\",\"NODE6\"], axis =1) # axis = 1 so that it works across our columns\n",
    "clean_accre_df.head()"
   ]
  },
  {
   "cell_type": "code",
   "execution_count": 64,
   "metadata": {},
   "outputs": [
    {
     "data": {
      "text/plain": [
       "'122880'"
      ]
     },
     "execution_count": 64,
     "metadata": {},
     "output_type": "execute_result"
    }
   ],
   "source": [
    "x = \"122880Mn\"\n",
    "x.replace(\"Mn\",\"\")"
   ]
  },
  {
   "cell_type": "code",
   "execution_count": 63,
   "metadata": {},
   "outputs": [
    {
     "data": {
      "text/plain": [
       "0      REQMEM\n",
       "1    122880Mn\n",
       "2    122880Mn\n",
       "3    122880Mn\n",
       "4    122880Mn\n",
       "Name: REQMEM, dtype: object"
      ]
     },
     "execution_count": 63,
     "metadata": {},
     "output_type": "execute_result"
    }
   ],
   "source": [
    "clean_accre_df['REQMEM'] = accre_df['REQMEM'].replace(\"Mn\",\"\")\n",
    "clean_accre_df['REQMEM'].head()"
   ]
  },
  {
   "cell_type": "code",
   "execution_count": 65,
   "metadata": {},
   "outputs": [
    {
     "ename": "DataError",
     "evalue": "No numeric types to aggregate",
     "output_type": "error",
     "traceback": [
      "\u001b[1;31m---------------------------------------------------------------------------\u001b[0m",
      "\u001b[1;31mDataError\u001b[0m                                 Traceback (most recent call last)",
      "\u001b[1;32m<ipython-input-65-14d570cedd13>\u001b[0m in \u001b[0;36m<module>\u001b[1;34m\u001b[0m\n\u001b[1;32m----> 1\u001b[1;33m \u001b[0mclean_accre_df\u001b[0m\u001b[1;33m.\u001b[0m\u001b[0mgroupby\u001b[0m\u001b[1;33m(\u001b[0m\u001b[1;34m'ACCOUNT'\u001b[0m\u001b[1;33m)\u001b[0m\u001b[1;33m.\u001b[0m\u001b[0mmean\u001b[0m\u001b[1;33m(\u001b[0m\u001b[1;33m)\u001b[0m\u001b[1;33m\u001b[0m\u001b[1;33m\u001b[0m\u001b[0m\n\u001b[0m",
      "\u001b[1;32m~\\anaconda3\\lib\\site-packages\\pandas\\core\\groupby\\groupby.py\u001b[0m in \u001b[0;36mmean\u001b[1;34m(self, *args, **kwargs)\u001b[0m\n\u001b[0;32m   1223\u001b[0m         \"\"\"\n\u001b[0;32m   1224\u001b[0m         \u001b[0mnv\u001b[0m\u001b[1;33m.\u001b[0m\u001b[0mvalidate_groupby_func\u001b[0m\u001b[1;33m(\u001b[0m\u001b[1;34m\"mean\"\u001b[0m\u001b[1;33m,\u001b[0m \u001b[0margs\u001b[0m\u001b[1;33m,\u001b[0m \u001b[0mkwargs\u001b[0m\u001b[1;33m,\u001b[0m \u001b[1;33m[\u001b[0m\u001b[1;34m\"numeric_only\"\u001b[0m\u001b[1;33m]\u001b[0m\u001b[1;33m)\u001b[0m\u001b[1;33m\u001b[0m\u001b[1;33m\u001b[0m\u001b[0m\n\u001b[1;32m-> 1225\u001b[1;33m         return self._cython_agg_general(\n\u001b[0m\u001b[0;32m   1226\u001b[0m             \u001b[1;34m\"mean\"\u001b[0m\u001b[1;33m,\u001b[0m \u001b[0malt\u001b[0m\u001b[1;33m=\u001b[0m\u001b[1;32mlambda\u001b[0m \u001b[0mx\u001b[0m\u001b[1;33m,\u001b[0m \u001b[0maxis\u001b[0m\u001b[1;33m:\u001b[0m \u001b[0mSeries\u001b[0m\u001b[1;33m(\u001b[0m\u001b[0mx\u001b[0m\u001b[1;33m)\u001b[0m\u001b[1;33m.\u001b[0m\u001b[0mmean\u001b[0m\u001b[1;33m(\u001b[0m\u001b[1;33m**\u001b[0m\u001b[0mkwargs\u001b[0m\u001b[1;33m)\u001b[0m\u001b[1;33m,\u001b[0m \u001b[1;33m**\u001b[0m\u001b[0mkwargs\u001b[0m\u001b[1;33m\u001b[0m\u001b[1;33m\u001b[0m\u001b[0m\n\u001b[0;32m   1227\u001b[0m         )\n",
      "\u001b[1;32m~\\anaconda3\\lib\\site-packages\\pandas\\core\\groupby\\generic.py\u001b[0m in \u001b[0;36m_cython_agg_general\u001b[1;34m(self, how, alt, numeric_only, min_count)\u001b[0m\n\u001b[0;32m    991\u001b[0m         \u001b[0mself\u001b[0m\u001b[1;33m,\u001b[0m \u001b[0mhow\u001b[0m\u001b[1;33m:\u001b[0m \u001b[0mstr\u001b[0m\u001b[1;33m,\u001b[0m \u001b[0malt\u001b[0m\u001b[1;33m=\u001b[0m\u001b[1;32mNone\u001b[0m\u001b[1;33m,\u001b[0m \u001b[0mnumeric_only\u001b[0m\u001b[1;33m:\u001b[0m \u001b[0mbool\u001b[0m \u001b[1;33m=\u001b[0m \u001b[1;32mTrue\u001b[0m\u001b[1;33m,\u001b[0m \u001b[0mmin_count\u001b[0m\u001b[1;33m:\u001b[0m \u001b[0mint\u001b[0m \u001b[1;33m=\u001b[0m \u001b[1;33m-\u001b[0m\u001b[1;36m1\u001b[0m\u001b[1;33m\u001b[0m\u001b[1;33m\u001b[0m\u001b[0m\n\u001b[0;32m    992\u001b[0m     ) -> DataFrame:\n\u001b[1;32m--> 993\u001b[1;33m         agg_blocks, agg_items = self._cython_agg_blocks(\n\u001b[0m\u001b[0;32m    994\u001b[0m             \u001b[0mhow\u001b[0m\u001b[1;33m,\u001b[0m \u001b[0malt\u001b[0m\u001b[1;33m=\u001b[0m\u001b[0malt\u001b[0m\u001b[1;33m,\u001b[0m \u001b[0mnumeric_only\u001b[0m\u001b[1;33m=\u001b[0m\u001b[0mnumeric_only\u001b[0m\u001b[1;33m,\u001b[0m \u001b[0mmin_count\u001b[0m\u001b[1;33m=\u001b[0m\u001b[0mmin_count\u001b[0m\u001b[1;33m\u001b[0m\u001b[1;33m\u001b[0m\u001b[0m\n\u001b[0;32m    995\u001b[0m         )\n",
      "\u001b[1;32m~\\anaconda3\\lib\\site-packages\\pandas\\core\\groupby\\generic.py\u001b[0m in \u001b[0;36m_cython_agg_blocks\u001b[1;34m(self, how, alt, numeric_only, min_count)\u001b[0m\n\u001b[0;32m   1093\u001b[0m \u001b[1;33m\u001b[0m\u001b[0m\n\u001b[0;32m   1094\u001b[0m         \u001b[1;32mif\u001b[0m \u001b[1;32mnot\u001b[0m \u001b[1;33m(\u001b[0m\u001b[0magg_blocks\u001b[0m \u001b[1;32mor\u001b[0m \u001b[0msplit_frames\u001b[0m\u001b[1;33m)\u001b[0m\u001b[1;33m:\u001b[0m\u001b[1;33m\u001b[0m\u001b[1;33m\u001b[0m\u001b[0m\n\u001b[1;32m-> 1095\u001b[1;33m             \u001b[1;32mraise\u001b[0m \u001b[0mDataError\u001b[0m\u001b[1;33m(\u001b[0m\u001b[1;34m\"No numeric types to aggregate\"\u001b[0m\u001b[1;33m)\u001b[0m\u001b[1;33m\u001b[0m\u001b[1;33m\u001b[0m\u001b[0m\n\u001b[0m\u001b[0;32m   1096\u001b[0m \u001b[1;33m\u001b[0m\u001b[0m\n\u001b[0;32m   1097\u001b[0m         \u001b[1;32mif\u001b[0m \u001b[0msplit_items\u001b[0m\u001b[1;33m:\u001b[0m\u001b[1;33m\u001b[0m\u001b[1;33m\u001b[0m\u001b[0m\n",
      "\u001b[1;31mDataError\u001b[0m: No numeric types to aggregate"
     ]
    }
   ],
   "source": [
    "clean_accre_df.groupby('ACCOUNT').mean()"
   ]
  },
  {
   "cell_type": "code",
   "execution_count": 32,
   "metadata": {},
   "outputs": [
    {
     "data": {
      "text/plain": [
       "cms          807408\n",
       "cep          609278\n",
       "summer       380788\n",
       "galia        198180\n",
       "carrot       192524\n",
       "              ...  \n",
       "purple            1\n",
       "discovery         1\n",
       "crowns            1\n",
       "hass              1\n",
       "flamingo          1\n",
       "Name: ACCOUNT, Length: 173, dtype: int64"
      ]
     },
     "execution_count": 32,
     "metadata": {},
     "output_type": "execute_result"
    }
   ],
   "source": [
    "accre_df[\"ACCOUNT\"].value_counts()"
   ]
  },
  {
   "cell_type": "code",
   "execution_count": 10,
   "metadata": {
    "scrolled": false
   },
   "outputs": [
    {
     "data": {
      "text/plain": [
       "array(['treviso', 'mickey', 'fava', 'delblush', 'fresh', 'minnewashta',\n",
       "       'broccoli', 'mangosteen', 'pepino', 'sprite', 'mixed',\n",
       "       'horseradish', 'galia', 'cepuna', 'conference', 'cantared',\n",
       "       'harovin', 'turban', 'lychees', 'cep', 'seeded', 'sunburst',\n",
       "       'wood', 'regal', 'crab', 'blackberries', 'portabella', 'gobo',\n",
       "       'salustiana', 'cms', 'pasilla', 'cms_lowprio', 'winged', 'bulk',\n",
       "       'summer', 'baking', 'sharlin', 'carrot', 'endive', 'cmsadmin',\n",
       "       'peanuts', 'morita', 'water', 'muscat', 'boysenberries', 'concord',\n",
       "       'bunch', 'cactus', 'large', 'orange', 'anise', 'bon', 'brazilnuts',\n",
       "       'retailer', 'rosemarie', 'alkmene', 'bibb', 'pioppino', 'dill',\n",
       "       'clara', 'sweet', 'casaba', 'chickpeas', 'cubanelle',\n",
       "       'blueberries', 'arra', 'bell', 'enoki', 'carambola', 'pinole',\n",
       "       'belle', 'fiddlehead', 'long', 'round', 'sunflower', 'grisette',\n",
       "       'lollo', 'st', 'lemon', 'basil', 'fairchild', 'baby', 'sturmer',\n",
       "       'texas', 'celery', 'savoy', 'burro', 'opo', 'virginia',\n",
       "       'chanterelle', 'emmons', 'packham', 'tips', 'scallopini',\n",
       "       'atemoyas', 'angelys', 'cms_gpu_acc', 'lochbuie', 'white', 'horn',\n",
       "       'pickling', 'bertanne', 'kabocha', 'sugranineteen', 'plantain',\n",
       "       'leaves', 'milwa', 'pitted', 'bay', 'polk', 'amaranth', 'mung',\n",
       "       'strawberries', 'almonds', 'chayote', 'chasselas', 'roasted',\n",
       "       'kinnow', 'antares', 'josephine', 'gem', 'shallots', 'champagne',\n",
       "       'tree', 'maltaise', 'mignonette', 'laxtons', 'spring', 'nino',\n",
       "       'hass', 'wa', 'jicama', 'key', 'francis', 'chipilin', 'prince',\n",
       "       'forelle', 'flamingo', 'oroblanco', 'kumquat', 'hearts', 'with',\n",
       "       'yu', 'sommerfeld', 'pecans', 'shiny', 'cinnabar', 'shell',\n",
       "       'pinova', 'medium', 'garlic', 'tosca', 'florence', 'golden',\n",
       "       'crowns', 'huaguan', 'wax', 'galangal', 'pink', 'glasshouse',\n",
       "       'thomcord', 'stalk', 'purple', 'mache', 'romanesco', 'malanga',\n",
       "       'serrano', 'ingrid', 'rocha', 'cocktail', 'president', 'discovery',\n",
       "       'plumcot'], dtype=object)"
      ]
     },
     "execution_count": 10,
     "metadata": {},
     "output_type": "execute_result"
    }
   ],
   "source": [
    "accre_df['ACCOUNT'].unique()"
   ]
  },
  {
   "cell_type": "code",
   "execution_count": 23,
   "metadata": {},
   "outputs": [
    {
     "data": {
      "text/plain": [
       "array([24,  1, 16,  7,  4, 12,  2,  5,  8, 11,  6,  3,  9, 32, 64,  0, 10,\n",
       "       20, 15, 14, 13, 18, 22, 19], dtype=int64)"
      ]
     },
     "execution_count": 23,
     "metadata": {},
     "output_type": "execute_result"
    }
   ],
   "source": [
    "accre_df['CPUS'].unique()"
   ]
  },
  {
   "cell_type": "code",
   "execution_count": null,
   "metadata": {},
   "outputs": [],
   "source": [
    "# remove letters and convert to int for memory usage"
   ]
  },
  {
   "cell_type": "code",
   "execution_count": null,
   "metadata": {},
   "outputs": [],
   "source": [
    "# convert mn to mc"
   ]
  },
  {
   "cell_type": "code",
   "execution_count": 14,
   "metadata": {},
   "outputs": [],
   "source": [
    "# convert memory to per core\n"
   ]
  },
  {
   "cell_type": "code",
   "execution_count": 17,
   "metadata": {},
   "outputs": [],
   "source": [
    "# create columns for time and percent comparison "
   ]
  },
  {
   "cell_type": "code",
   "execution_count": null,
   "metadata": {},
   "outputs": [],
   "source": [
    "# find average percent for each group"
   ]
  },
  {
   "cell_type": "code",
   "execution_count": null,
   "metadata": {},
   "outputs": [],
   "source": []
  },
  {
   "cell_type": "code",
   "execution_count": null,
   "metadata": {},
   "outputs": [],
   "source": []
  },
  {
   "cell_type": "code",
   "execution_count": 54,
   "metadata": {},
   "outputs": [
    {
     "data": {
      "text/plain": [
       "'122880'"
      ]
     },
     "execution_count": 54,
     "metadata": {},
     "output_type": "execute_result"
    }
   ],
   "source": [
    "x = \"122880Mn\"\n",
    "x.replace(\"Mn\",\"\")\n",
    "#re.findall('\\[^a-z0-90]/g', x)"
   ]
  },
  {
   "cell_type": "code",
   "execution_count": 13,
   "metadata": {},
   "outputs": [
    {
     "data": {
      "text/html": [
       "<div>\n",
       "<style scoped>\n",
       "    .dataframe tbody tr th:only-of-type {\n",
       "        vertical-align: middle;\n",
       "    }\n",
       "\n",
       "    .dataframe tbody tr th {\n",
       "        vertical-align: top;\n",
       "    }\n",
       "\n",
       "    .dataframe thead th {\n",
       "        text-align: right;\n",
       "    }\n",
       "</style>\n",
       "<table border=\"1\" class=\"dataframe\">\n",
       "  <thead>\n",
       "    <tr style=\"text-align: right;\">\n",
       "      <th></th>\n",
       "      <th>JOBID</th>\n",
       "      <th>ACCOUNT</th>\n",
       "      <th>USER</th>\n",
       "      <th>REQMEM</th>\n",
       "      <th>USEDMEM</th>\n",
       "      <th>REQTIME</th>\n",
       "      <th>USEDTIME</th>\n",
       "      <th>NODES</th>\n",
       "      <th>CPUS</th>\n",
       "      <th>PARTITION</th>\n",
       "      <th>EXITCODE</th>\n",
       "      <th>STATE</th>\n",
       "      <th>NODELIST</th>\n",
       "    </tr>\n",
       "  </thead>\n",
       "  <tbody>\n",
       "    <tr>\n",
       "      <th>0</th>\n",
       "      <td>15925210</td>\n",
       "      <td>treviso</td>\n",
       "      <td>arabella</td>\n",
       "      <td>122880Mn</td>\n",
       "      <td>65973.49M</td>\n",
       "      <td>13-18:00:00</td>\n",
       "      <td>13-18:00:28</td>\n",
       "      <td>1</td>\n",
       "      <td>24</td>\n",
       "      <td>production</td>\n",
       "      <td>0:0</td>\n",
       "      <td>COMPLETED</td>\n",
       "      <td>cn1531</td>\n",
       "    </tr>\n",
       "    <tr>\n",
       "      <th>1</th>\n",
       "      <td>15861126</td>\n",
       "      <td>treviso</td>\n",
       "      <td>arabella</td>\n",
       "      <td>122880Mn</td>\n",
       "      <td>67181.12M</td>\n",
       "      <td>13-18:00:00</td>\n",
       "      <td>12-14:50:56</td>\n",
       "      <td>1</td>\n",
       "      <td>24</td>\n",
       "      <td>production</td>\n",
       "      <td>0:0</td>\n",
       "      <td>COMPLETED</td>\n",
       "      <td>cn1441</td>\n",
       "    </tr>\n",
       "    <tr>\n",
       "      <th>2</th>\n",
       "      <td>15861125</td>\n",
       "      <td>treviso</td>\n",
       "      <td>arabella</td>\n",
       "      <td>122880Mn</td>\n",
       "      <td>69111.86M</td>\n",
       "      <td>13-18:00:00</td>\n",
       "      <td>13-18:00:20</td>\n",
       "      <td>1</td>\n",
       "      <td>24</td>\n",
       "      <td>production</td>\n",
       "      <td>0:0</td>\n",
       "      <td>COMPLETED</td>\n",
       "      <td>cn1464</td>\n",
       "    </tr>\n",
       "    <tr>\n",
       "      <th>3</th>\n",
       "      <td>16251645</td>\n",
       "      <td>treviso</td>\n",
       "      <td>arabella</td>\n",
       "      <td>122880Mn</td>\n",
       "      <td>65317.33M</td>\n",
       "      <td>13-18:00:00</td>\n",
       "      <td>12-03:50:32</td>\n",
       "      <td>1</td>\n",
       "      <td>24</td>\n",
       "      <td>production</td>\n",
       "      <td>0:0</td>\n",
       "      <td>COMPLETED</td>\n",
       "      <td>cn1473</td>\n",
       "    </tr>\n",
       "    <tr>\n",
       "      <th>4</th>\n",
       "      <td>16251646</td>\n",
       "      <td>treviso</td>\n",
       "      <td>arabella</td>\n",
       "      <td>122880Mn</td>\n",
       "      <td>65876.11M</td>\n",
       "      <td>13-18:00:00</td>\n",
       "      <td>13-18:00:03</td>\n",
       "      <td>1</td>\n",
       "      <td>24</td>\n",
       "      <td>production</td>\n",
       "      <td>0:0</td>\n",
       "      <td>COMPLETED</td>\n",
       "      <td>cn1440</td>\n",
       "    </tr>\n",
       "    <tr>\n",
       "      <th>5</th>\n",
       "      <td>16297022</td>\n",
       "      <td>treviso</td>\n",
       "      <td>arabella</td>\n",
       "      <td>122880Mn</td>\n",
       "      <td>65183.02M</td>\n",
       "      <td>13-18:00:00</td>\n",
       "      <td>12-02:31:43</td>\n",
       "      <td>1</td>\n",
       "      <td>24</td>\n",
       "      <td>production</td>\n",
       "      <td>0:0</td>\n",
       "      <td>COMPLETED</td>\n",
       "      <td>cn1443</td>\n",
       "    </tr>\n",
       "    <tr>\n",
       "      <th>6</th>\n",
       "      <td>16297024</td>\n",
       "      <td>treviso</td>\n",
       "      <td>arabella</td>\n",
       "      <td>122880Mn</td>\n",
       "      <td>64941.85M</td>\n",
       "      <td>13-18:00:00</td>\n",
       "      <td>13-06:54:59</td>\n",
       "      <td>1</td>\n",
       "      <td>24</td>\n",
       "      <td>production</td>\n",
       "      <td>0:0</td>\n",
       "      <td>COMPLETED</td>\n",
       "      <td>cn1531</td>\n",
       "    </tr>\n",
       "    <tr>\n",
       "      <th>7</th>\n",
       "      <td>16316283</td>\n",
       "      <td>treviso</td>\n",
       "      <td>arabella</td>\n",
       "      <td>122880Mn</td>\n",
       "      <td>68499.51M</td>\n",
       "      <td>13-18:00:00</td>\n",
       "      <td>13-18:00:05</td>\n",
       "      <td>1</td>\n",
       "      <td>24</td>\n",
       "      <td>production</td>\n",
       "      <td>0:0</td>\n",
       "      <td>COMPLETED</td>\n",
       "      <td>cn1535</td>\n",
       "    </tr>\n",
       "    <tr>\n",
       "      <th>8</th>\n",
       "      <td>16316284</td>\n",
       "      <td>treviso</td>\n",
       "      <td>arabella</td>\n",
       "      <td>122880Mn</td>\n",
       "      <td>67761.41M</td>\n",
       "      <td>13-18:00:00</td>\n",
       "      <td>13-18:00:15</td>\n",
       "      <td>1</td>\n",
       "      <td>24</td>\n",
       "      <td>production</td>\n",
       "      <td>0:0</td>\n",
       "      <td>COMPLETED</td>\n",
       "      <td>cn1464</td>\n",
       "    </tr>\n",
       "    <tr>\n",
       "      <th>9</th>\n",
       "      <td>16316324</td>\n",
       "      <td>treviso</td>\n",
       "      <td>arabella</td>\n",
       "      <td>122880Mn</td>\n",
       "      <td>68087.66M</td>\n",
       "      <td>13-18:00:00</td>\n",
       "      <td>13-18:00:06</td>\n",
       "      <td>1</td>\n",
       "      <td>24</td>\n",
       "      <td>production</td>\n",
       "      <td>0:0</td>\n",
       "      <td>COMPLETED</td>\n",
       "      <td>cn1473</td>\n",
       "    </tr>\n",
       "  </tbody>\n",
       "</table>\n",
       "</div>"
      ],
      "text/plain": [
       "      JOBID  ACCOUNT      USER    REQMEM    USEDMEM      REQTIME     USEDTIME  \\\n",
       "0  15925210  treviso  arabella  122880Mn  65973.49M  13-18:00:00  13-18:00:28   \n",
       "1  15861126  treviso  arabella  122880Mn  67181.12M  13-18:00:00  12-14:50:56   \n",
       "2  15861125  treviso  arabella  122880Mn  69111.86M  13-18:00:00  13-18:00:20   \n",
       "3  16251645  treviso  arabella  122880Mn  65317.33M  13-18:00:00  12-03:50:32   \n",
       "4  16251646  treviso  arabella  122880Mn  65876.11M  13-18:00:00  13-18:00:03   \n",
       "5  16297022  treviso  arabella  122880Mn  65183.02M  13-18:00:00  12-02:31:43   \n",
       "6  16297024  treviso  arabella  122880Mn  64941.85M  13-18:00:00  13-06:54:59   \n",
       "7  16316283  treviso  arabella  122880Mn  68499.51M  13-18:00:00  13-18:00:05   \n",
       "8  16316284  treviso  arabella  122880Mn  67761.41M  13-18:00:00  13-18:00:15   \n",
       "9  16316324  treviso  arabella  122880Mn  68087.66M  13-18:00:00  13-18:00:06   \n",
       "\n",
       "   NODES  CPUS   PARTITION EXITCODE      STATE NODELIST  \n",
       "0      1    24  production      0:0  COMPLETED   cn1531  \n",
       "1      1    24  production      0:0  COMPLETED   cn1441  \n",
       "2      1    24  production      0:0  COMPLETED   cn1464  \n",
       "3      1    24  production      0:0  COMPLETED   cn1473  \n",
       "4      1    24  production      0:0  COMPLETED   cn1440  \n",
       "5      1    24  production      0:0  COMPLETED   cn1443  \n",
       "6      1    24  production      0:0  COMPLETED   cn1531  \n",
       "7      1    24  production      0:0  COMPLETED   cn1535  \n",
       "8      1    24  production      0:0  COMPLETED   cn1464  \n",
       "9      1    24  production      0:0  COMPLETED   cn1473  "
      ]
     },
     "execution_count": 13,
     "metadata": {},
     "output_type": "execute_result"
    }
   ],
   "source": [
    "# groups are account\n",
    "accre_df.head(10)\n",
    "# need account, reqmem,usedmem, nodes, cpus, production"
   ]
  },
  {
   "cell_type": "code",
   "execution_count": null,
   "metadata": {},
   "outputs": [],
   "source": []
  },
  {
   "cell_type": "markdown",
   "metadata": {},
   "source": [
    "# Question 3\n",
    "What groups are best optimizing their memory usage in terms of percent of actual memory used of the memory requested for a job? What is the average percent for each group?"
   ]
  },
  {
   "cell_type": "markdown",
   "metadata": {},
   "source": [
    "# Answer 1:\n",
    "x is the best group for using "
   ]
  },
  {
   "cell_type": "markdown",
   "metadata": {},
   "source": [
    "# Answer 2:\n",
    "The average percent for each group is"
   ]
  }
 ],
 "metadata": {
  "kernelspec": {
   "display_name": "Python 3",
   "language": "python",
   "name": "python3"
  },
  "language_info": {
   "codemirror_mode": {
    "name": "ipython",
    "version": 3
   },
   "file_extension": ".py",
   "mimetype": "text/x-python",
   "name": "python",
   "nbconvert_exporter": "python",
   "pygments_lexer": "ipython3",
   "version": "3.8.3"
  }
 },
 "nbformat": 4,
 "nbformat_minor": 4
}
